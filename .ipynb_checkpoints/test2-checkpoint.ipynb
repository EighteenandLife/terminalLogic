{
 "cells": [
  {
   "cell_type": "code",
   "execution_count": 1,
   "metadata": {},
   "outputs": [
    {
     "ename": "ModuleNotFoundError",
     "evalue": "No module named 'terminalLogic'",
     "output_type": "error",
     "traceback": [
      "\u001b[1;31m---------------------------------------------------------------------------\u001b[0m",
      "\u001b[1;31mModuleNotFoundError\u001b[0m                       Traceback (most recent call last)",
      "\u001b[1;32m<ipython-input-1-7f1d452fd232>\u001b[0m in \u001b[0;36m<module>\u001b[1;34m\u001b[0m\n\u001b[0;32m      3\u001b[0m \u001b[1;32mimport\u001b[0m \u001b[0mrequests\u001b[0m\u001b[1;33m\u001b[0m\u001b[1;33m\u001b[0m\u001b[0m\n\u001b[0;32m      4\u001b[0m \u001b[1;32mimport\u001b[0m \u001b[0mmatplotlib\u001b[0m\u001b[1;33m.\u001b[0m\u001b[0mpyplot\u001b[0m \u001b[1;32mas\u001b[0m \u001b[0mplt\u001b[0m\u001b[1;33m\u001b[0m\u001b[1;33m\u001b[0m\u001b[0m\n\u001b[1;32m----> 5\u001b[1;33m \u001b[1;32mimport\u001b[0m \u001b[0mterminalLogic\u001b[0m\u001b[1;33m\u001b[0m\u001b[1;33m\u001b[0m\u001b[0m\n\u001b[0m\u001b[0;32m      6\u001b[0m \u001b[1;32mfrom\u001b[0m \u001b[0mterminalLogic\u001b[0m \u001b[1;32mimport\u001b[0m \u001b[0mAlgo\u001b[0m\u001b[1;33m\u001b[0m\u001b[1;33m\u001b[0m\u001b[0m\n\u001b[0;32m      7\u001b[0m \u001b[1;32mimport\u001b[0m \u001b[0mclient\u001b[0m\u001b[1;33m\u001b[0m\u001b[1;33m\u001b[0m\u001b[0m\n",
      "\u001b[1;31mModuleNotFoundError\u001b[0m: No module named 'terminalLogic'"
     ]
    }
   ],
   "source": [
    "import sys\n",
    "sys.path.append('terminalLogic/code/')\n",
    "import requests\n",
    "import matplotlib.pyplot as plt\n",
    "import terminalLogic\n",
    "from terminalLogic import Algo\n",
    "import client\n",
    "from client import engine\n",
    "from typing import Optional, Dict, Any, List\n",
    "from ciso8601 import parse_datetime\n",
    "from requests import Request, Session, Response\n",
    "import pandas as pd\n",
    "import numpy as np\n",
    "import datetime\n",
    "import time"
   ]
  },
  {
   "cell_type": "code",
   "execution_count": null,
   "metadata": {},
   "outputs": [],
   "source": [
    "# url = engine()\n",
    "# data = url.getData()\n",
    "# df = data\n",
    "# df.to_csv('btc1mslice.csv')\n",
    "# df"
   ]
  },
  {
   "cell_type": "code",
   "execution_count": null,
   "metadata": {},
   "outputs": [],
   "source": [
    "df = pd.read_csv('data/btcperp1m.csv')\n",
    "df.drop(df.columns[[0]], axis=1,inplace=True)\n"
   ]
  },
  {
   "cell_type": "code",
   "execution_count": null,
   "metadata": {
    "scrolled": false
   },
   "outputs": [],
   "source": [
    "df1 = Algo.fullstate(df, df)\n",
    "df1.dropna(inplace=True)\n",
    "df2 = df1\n",
    "df2"
   ]
  },
  {
   "cell_type": "markdown",
   "metadata": {},
   "source": [
    "## Trend positions"
   ]
  },
  {
   "cell_type": "code",
   "execution_count": null,
   "metadata": {},
   "outputs": [],
   "source": [
    "t = Algo.plot_positionT(df2)\n",
    "t"
   ]
  },
  {
   "cell_type": "markdown",
   "metadata": {},
   "source": [
    "# Trend Algo Performance"
   ]
  },
  {
   "cell_type": "code",
   "execution_count": null,
   "metadata": {},
   "outputs": [],
   "source": [
    "trendPlot = Algo.plot_gainzT(df2)\n",
    "trendPlot"
   ]
  },
  {
   "cell_type": "code",
   "execution_count": null,
   "metadata": {},
   "outputs": [],
   "source": [
    "trendRets = Algo.trend_gainz(df2)\n",
    "trendRets"
   ]
  },
  {
   "cell_type": "markdown",
   "metadata": {},
   "source": [
    "# Range positions"
   ]
  },
  {
   "cell_type": "code",
   "execution_count": null,
   "metadata": {},
   "outputs": [],
   "source": [
    "r = Algo.plot_positionR(df2.head(-300))\n",
    "r\n",
    "# always long or short never flat"
   ]
  },
  {
   "cell_type": "code",
   "execution_count": null,
   "metadata": {},
   "outputs": [],
   "source": [
    "# p = Algo.plot_percentiles(df2.head(-500))\n",
    "# p"
   ]
  },
  {
   "cell_type": "code",
   "execution_count": null,
   "metadata": {},
   "outputs": [],
   "source": [
    "    import seaborn as sns\n",
    "    sns.set()\n",
    "    percentiles = [5, 10, 50, 90, 95]\n",
    "    p = np.percentile(df2['ratio'].dropna(), percentiles)\n",
    "    df2['ratio'].dropna().plot(legend = True)\n",
    "    plt.axhline(p[0], c= (.5,.5,.5), ls='--')\n",
    "    plt.axhline(p[2], c= (.5,.5,.5), ls='--')\n",
    "    plt.axhline(p[-1], c= (.5,.5,.5), ls='--');"
   ]
  },
  {
   "cell_type": "code",
   "execution_count": null,
   "metadata": {},
   "outputs": [],
   "source": [
    "plt.rcParams['figure.figsize'] = 30,10\n",
    "plt.grid(True, alpha = .3)\n",
    "plt.plot(df2.iloc[-500:]['close'], label = 'BTC')\n",
    "plt.plot(df2.iloc[-500:]['9-min'], label = '9-min')\n",
    "plt.plot(df2[-500:].loc[df2.entryR == 2].index, df2[-500:]['9-min'][df2.entryR == 2], \"^\",\n",
    "        color = \"r\", markersize = 12, label= \"Short\")\n",
    "plt.plot(df2[-500:].loc[df2.entryR == -2].index, df2[-500:]['9-min'][df2.entryR == -2], \"v\",\n",
    "        color = \"g\", markersize = 12, label=\"Long\")\n",
    "plt.legend(loc=2);"
   ]
  },
  {
   "cell_type": "code",
   "execution_count": null,
   "metadata": {},
   "outputs": [],
   "source": [
    "rangeRet = Algo.market_returnsR(df2)\n",
    "rangeRet"
   ]
  },
  {
   "cell_type": "code",
   "execution_count": null,
   "metadata": {},
   "outputs": [],
   "source": [
    "rangeRets = Algo.range_gainz(df2)\n",
    "rangeRets"
   ]
  },
  {
   "cell_type": "code",
   "execution_count": null,
   "metadata": {},
   "outputs": [],
   "source": [
    "bestFit = df2[['time','close', 'market_returns','range_returns', 'trend_returns']]\n",
    "bestFit.head(30)"
   ]
  },
  {
   "cell_type": "code",
   "execution_count": null,
   "metadata": {},
   "outputs": [],
   "source": [
    "# bestFit['minuteTF_maxVal'] = np.where(bestFit['range_returns'] > bestFit['trend_returns'],\n",
    "#                                             bestFit['range_returns'], np.nan)\n",
    "# bestFit['minuteTF_maxVal'] = np.where(bestFit['range_returns'] < bestFit['trend_returns'],\n",
    "#                                             bestFit['range_returns'], bestFit['minuteTF_maxVal'])\n",
    "# bestFit['minuteTF_maxVal'] = np.where(bestFit['range_returns'] == bestFit['trend_returns'],\n",
    "#                                             bestFit['range_returns'], bestFit['minuteTF_maxVal'])\n",
    "# # bestFit['20m_maxVal'] = bestFit['minuteTF_maxVal'].shift(-20)\n",
    "# fitList =  bestFit['minuteTF_maxVal'].shift(-20)\n"
   ]
  },
  {
   "cell_type": "markdown",
   "metadata": {},
   "source": [
    "* check val in each algo_return, determine greatest val, declear winner\n",
    "* if declared winner, iterate forward len(X_minutes) in winner col and append new val to list\n",
    "* check both val at winning location for greatest val, decleare winner\n",
    "* iterate forward len(X_min) in winning col and append val to list\n",
    "* repeat, i think.."
   ]
  },
  {
   "cell_type": "code",
   "execution_count": null,
   "metadata": {},
   "outputs": [],
   "source": [
    "count=[]\n",
    "selectVal = []\n",
    "greatestVal = []\n",
    "signal = ''\n",
    "period = 3\n",
    "\n",
    "for j, k in bestFit.iterrows():\n",
    "    count.append(1)    \n",
    "    if len(count) == period:\n",
    "        selectVal.append([\"time\", k['market_returns'], \"rangeRet\", k['range_returns'], \"trendRet\", k['trend_returns']])\n",
    "        if k['range_returns'] > k['trend_returns']:\n",
    "            signal = -1\n",
    "            greatestVal.append([ signal, k['range_returns']])\n",
    "#             selectVal.append([k['range_returns'], signal])\n",
    "#             np.insert(winnerVal, 1, greatestVal, axis = 1)\n",
    "        elif k['range_returns'] < k['trend_returns']:\n",
    "            signal = 1\n",
    "            greatestVal.append([signal, k['trend_returns']])\n",
    "#             selectVal.append([k['trend_returns'], signal])\n",
    "        else:\n",
    "            k['range_returns'] == k['trend_returns']\n",
    "            signal = 0\n",
    "            greatestVal.append([signal, k['trend_returns']])\n",
    "#             selectVal.append([k['trend_returns'], signal])\n",
    "        count = []\n",
    "\n",
    "record=np.concatenate((selectVal,greatestVal), axis=1)\n",
    "record\n",
    "\n",
    "        \n",
    "df3 = pd.DataFrame((record),\n",
    "                     columns=['time', 'market_returns', 'range','rangeRet', 'trend', 'trendRet', 'winningAlgo', 'winnersRets'])   \n",
    "df3.drop(['range', 'trend'], axis = 1, inplace=True)\n",
    "record\n"
   ]
  },
  {
   "cell_type": "code",
   "execution_count": null,
   "metadata": {},
   "outputs": [],
   "source": [
    "df3['addTrend'] = df3['trendRet'].shift(-1)\n",
    "df3['addRange'] = df3['rangeRet'].shift(-1)\n",
    "df3['result'] = np.where(df3['trendRet'] > df3['rangeRet'], df3['addTrend'], np.nan)\n",
    "df3['result'] = np.where(df3['trendRet'] < df3['rangeRet'], df3['addRange'], df3['result'])\n",
    "df3['result'] = np.where(df3['trendRet'] == df3['rangeRet'], df3['addRange'], df3['result'])\n",
    "df3"
   ]
  },
  {
   "cell_type": "code",
   "execution_count": null,
   "metadata": {},
   "outputs": [],
   "source": [
    "df3.set_index('rangeRet')\n",
    "df4 = df3.iloc[:-1 , :]\n",
    "print(f' Dual Algo Returns over dataset 1minBTC: ', df3['result'].astype('float64').sum())\n",
    "print(f'Market Buy/Hold Returns for same period: ', np.exp(bestFit.market_returns).astype('float64').cumprod().iloc[-1])\n",
    "# when i try to sum it concatenates elements as strings, failed to convert to integer val\n",
    "# also y output col have values that dont seem to be in range with the other values?"
   ]
  },
  {
   "cell_type": "code",
   "execution_count": null,
   "metadata": {},
   "outputs": [],
   "source": [
    "plt.plot(np.exp(df3['market_returns'].dropna().astype('float64')).cumprod(), label='Buy/Hold')\n",
    "plt.plot(np.exp(df3['result'].dropna().astype('float64')).cumprod(), label='Strategy')\n",
    "plt.xticks(rotation=90)"
   ]
  },
  {
   "cell_type": "code",
   "execution_count": null,
   "metadata": {},
   "outputs": [],
   "source": [
    "initial_capital = float(100000.0)\n",
    "\n",
    "# Create df positions\n",
    "positions = pd.DataFrame(index=df2.time.index).fillna(0.0)\n",
    "\n",
    "\n",
    "# Buy 2 BTC\n",
    "positions['BTC-PERP'] = 2*df['position']\n",
    "\n",
    "# Initilize portfolio w value owned\n",
    "portfolio = positions.multiply(df['close'], axis=0)\n",
    "\n",
    "# Store diff in shares owned\n",
    "pos_diff = positions.diff()\n",
    "\n",
    "# Add 'holdings' to portfolio\n",
    "portfolio['holdings'] = (positions.multiply(df['close'], axis=0)).sum(axis=1)\n",
    "\n",
    "# Add 'cash' to portfolio\n",
    "portfolio['cash'] = initial_capital - (pos_diff.multiply(df['close'], axis=0)).sum(axis=1).cumsum()\n",
    "\n",
    "# Add 'total' to portfolio\n",
    "portfolio['total'] = portfolio['cash'] + portfolio['holdings']\n",
    "\n",
    "# Add 'returns' to portfolio\n",
    "portfolio['returns'] = portfolio['total'].pct_change()\n",
    "\n",
    "portfolio['time'] = df['time']\n",
    "portfolio"
   ]
  },
  {
   "cell_type": "code",
   "execution_count": null,
   "metadata": {},
   "outputs": [],
   "source": []
  },
  {
   "cell_type": "code",
   "execution_count": null,
   "metadata": {},
   "outputs": [],
   "source": []
  },
  {
   "cell_type": "code",
   "execution_count": null,
   "metadata": {},
   "outputs": [],
   "source": [
    "\n"
   ]
  }
 ],
 "metadata": {
  "kernelspec": {
   "display_name": "Python 3",
   "language": "python",
   "name": "python3"
  },
  "language_info": {
   "codemirror_mode": {
    "name": "ipython",
    "version": 3
   },
   "file_extension": ".py",
   "mimetype": "text/x-python",
   "name": "python",
   "nbconvert_exporter": "python",
   "pygments_lexer": "ipython3",
   "version": "3.8.5"
  }
 },
 "nbformat": 4,
 "nbformat_minor": 4
}
