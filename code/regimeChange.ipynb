{
 "cells": [
  {
   "cell_type": "code",
   "execution_count": 1,
   "metadata": {},
   "outputs": [],
   "source": [
    "from pandas_datareader import data as web\n",
    "import numpy as np\n",
    "from sklearn.linear_model import Lasso\n",
    "from sklearn.preprocessing import StandardScaler\n",
    "from sklearn.model_selection import RandomizedSearchCV as rcv\n",
    "from sklearn.pipeline import Pipeline\n",
    "from sklearn.impute import SimpleImputer\n",
    "imputer = SimpleImputer(missing_values=np.nan, strategy='mean') \n",
    "import matplotlib.pyplot as plt\n",
    "from IPython import get_ipython\n",
    "import requests\n",
    "import matplotlib.pyplot as plt\n",
    "import terminalLogic\n",
    "from terminalLogic import Algo\n",
    "import client\n",
    "from client import engine\n",
    "from typing import Optional, Dict, Any, List\n",
    "from ciso8601 import parse_datetime\n",
    "from requests import Request, Session, Response\n",
    "import sys\n",
    "import hmac\n",
    "import urllib.parse\n",
    "import time\n",
    "import datetime"
   ]
  },
  {
   "cell_type": "code",
   "execution_count": 2,
   "metadata": {},
   "outputs": [
    {
     "data": {
      "text/html": [
       "<div>\n",
       "<style scoped>\n",
       "    .dataframe tbody tr th:only-of-type {\n",
       "        vertical-align: middle;\n",
       "    }\n",
       "\n",
       "    .dataframe tbody tr th {\n",
       "        vertical-align: top;\n",
       "    }\n",
       "\n",
       "    .dataframe thead th {\n",
       "        text-align: right;\n",
       "    }\n",
       "</style>\n",
       "<table border=\"1\" class=\"dataframe\">\n",
       "  <thead>\n",
       "    <tr style=\"text-align: right;\">\n",
       "      <th></th>\n",
       "      <th>time</th>\n",
       "      <th>open</th>\n",
       "      <th>high</th>\n",
       "      <th>low</th>\n",
       "      <th>close</th>\n",
       "      <th>volume</th>\n",
       "    </tr>\n",
       "  </thead>\n",
       "  <tbody>\n",
       "    <tr>\n",
       "      <th>1498</th>\n",
       "      <td>2021-10-14 03:21:00</td>\n",
       "      <td>58219.0</td>\n",
       "      <td>58241.0</td>\n",
       "      <td>58218.0</td>\n",
       "      <td>58237.0</td>\n",
       "      <td>6.569379e+04</td>\n",
       "    </tr>\n",
       "    <tr>\n",
       "      <th>1497</th>\n",
       "      <td>2021-10-14 03:20:00</td>\n",
       "      <td>58220.0</td>\n",
       "      <td>58240.0</td>\n",
       "      <td>58210.0</td>\n",
       "      <td>58219.0</td>\n",
       "      <td>1.948184e+04</td>\n",
       "    </tr>\n",
       "    <tr>\n",
       "      <th>1496</th>\n",
       "      <td>2021-10-14 03:19:00</td>\n",
       "      <td>58224.0</td>\n",
       "      <td>58250.0</td>\n",
       "      <td>58208.0</td>\n",
       "      <td>58220.0</td>\n",
       "      <td>6.199657e+05</td>\n",
       "    </tr>\n",
       "    <tr>\n",
       "      <th>1495</th>\n",
       "      <td>2021-10-14 03:18:00</td>\n",
       "      <td>58193.0</td>\n",
       "      <td>58231.0</td>\n",
       "      <td>58192.0</td>\n",
       "      <td>58224.0</td>\n",
       "      <td>1.466951e+05</td>\n",
       "    </tr>\n",
       "    <tr>\n",
       "      <th>1494</th>\n",
       "      <td>2021-10-14 03:17:00</td>\n",
       "      <td>58197.0</td>\n",
       "      <td>58217.0</td>\n",
       "      <td>58190.0</td>\n",
       "      <td>58193.0</td>\n",
       "      <td>8.320395e+04</td>\n",
       "    </tr>\n",
       "    <tr>\n",
       "      <th>...</th>\n",
       "      <td>...</td>\n",
       "      <td>...</td>\n",
       "      <td>...</td>\n",
       "      <td>...</td>\n",
       "      <td>...</td>\n",
       "      <td>...</td>\n",
       "    </tr>\n",
       "    <tr>\n",
       "      <th>4</th>\n",
       "      <td>2021-10-13 02:27:00</td>\n",
       "      <td>56254.0</td>\n",
       "      <td>56254.0</td>\n",
       "      <td>56237.0</td>\n",
       "      <td>56238.0</td>\n",
       "      <td>3.133478e+04</td>\n",
       "    </tr>\n",
       "    <tr>\n",
       "      <th>3</th>\n",
       "      <td>2021-10-13 02:26:00</td>\n",
       "      <td>56254.0</td>\n",
       "      <td>56259.0</td>\n",
       "      <td>56253.0</td>\n",
       "      <td>56254.0</td>\n",
       "      <td>4.256930e+04</td>\n",
       "    </tr>\n",
       "    <tr>\n",
       "      <th>2</th>\n",
       "      <td>2021-10-13 02:25:00</td>\n",
       "      <td>56257.0</td>\n",
       "      <td>56260.0</td>\n",
       "      <td>56230.0</td>\n",
       "      <td>56254.0</td>\n",
       "      <td>1.229107e+06</td>\n",
       "    </tr>\n",
       "    <tr>\n",
       "      <th>1</th>\n",
       "      <td>2021-10-13 02:24:00</td>\n",
       "      <td>56271.0</td>\n",
       "      <td>56271.0</td>\n",
       "      <td>56257.0</td>\n",
       "      <td>56257.0</td>\n",
       "      <td>7.846941e+05</td>\n",
       "    </tr>\n",
       "    <tr>\n",
       "      <th>0</th>\n",
       "      <td>2021-10-13 02:23:00</td>\n",
       "      <td>56271.0</td>\n",
       "      <td>56280.0</td>\n",
       "      <td>56234.0</td>\n",
       "      <td>56271.0</td>\n",
       "      <td>3.155552e+05</td>\n",
       "    </tr>\n",
       "  </tbody>\n",
       "</table>\n",
       "<p>1499 rows × 6 columns</p>\n",
       "</div>"
      ],
      "text/plain": [
       "                    time     open     high      low    close        volume\n",
       "1498 2021-10-14 03:21:00  58219.0  58241.0  58218.0  58237.0  6.569379e+04\n",
       "1497 2021-10-14 03:20:00  58220.0  58240.0  58210.0  58219.0  1.948184e+04\n",
       "1496 2021-10-14 03:19:00  58224.0  58250.0  58208.0  58220.0  6.199657e+05\n",
       "1495 2021-10-14 03:18:00  58193.0  58231.0  58192.0  58224.0  1.466951e+05\n",
       "1494 2021-10-14 03:17:00  58197.0  58217.0  58190.0  58193.0  8.320395e+04\n",
       "...                  ...      ...      ...      ...      ...           ...\n",
       "4    2021-10-13 02:27:00  56254.0  56254.0  56237.0  56238.0  3.133478e+04\n",
       "3    2021-10-13 02:26:00  56254.0  56259.0  56253.0  56254.0  4.256930e+04\n",
       "2    2021-10-13 02:25:00  56257.0  56260.0  56230.0  56254.0  1.229107e+06\n",
       "1    2021-10-13 02:24:00  56271.0  56271.0  56257.0  56257.0  7.846941e+05\n",
       "0    2021-10-13 02:23:00  56271.0  56280.0  56234.0  56271.0  3.155552e+05\n",
       "\n",
       "[1499 rows x 6 columns]"
      ]
     },
     "execution_count": 2,
     "metadata": {},
     "output_type": "execute_result"
    }
   ],
   "source": [
    "url = engine()\n",
    "data = url.getData()\n",
    "df = data\n",
    "df = df[::-1]\n",
    "df"
   ]
  },
  {
   "cell_type": "markdown",
   "metadata": {},
   "source": [
    "# Creating Hyperparameters\n",
    "## Although the concept of hyper-parameters is worthy of a blog in itself, for now I will just say a few words about them. These are the parameters that the machine learning algorithm can’t learn over but needs to be iterated over. We use them to see which predefined functions or parameters yield the best fit function."
   ]
  },
  {
   "cell_type": "code",
   "execution_count": 3,
   "metadata": {},
   "outputs": [],
   "source": [
    "imp = SimpleImputer(missing_values=np.nan, strategy='mean')\n",
    "steps = [('imputation', imp),\n",
    "         ('scaler',StandardScaler()),\n",
    "         ('lasso',Lasso())]        \n",
    "\n",
    "pipeline =Pipeline(steps)\n",
    "\n",
    "\n",
    "parameters = {'lasso__alpha':np.arange(0.0001,10,.0001),\n",
    "              'lasso__max_iter':np.random.uniform(100,100000,4)}\n",
    "\n",
    "\n",
    "reg = rcv(pipeline, parameters,cv=5)"
   ]
  },
  {
   "cell_type": "markdown",
   "metadata": {},
   "source": [
    "# Splitting the data into test and train sets\n"
   ]
  },
  {
   "cell_type": "code",
   "execution_count": 4,
   "metadata": {},
   "outputs": [],
   "source": [
    "X=df[['open','high','low','close']]\n",
    "y =df['close']\n",
    "avg_err={}\n"
   ]
  },
  {
   "cell_type": "markdown",
   "metadata": {},
   "source": [
    "# Getting the best fit parameters to create a new function\n",
    "\n",
    "## I want to measure the performance of the regression function as compared to the size of the input dataset. In other words, I want to see if by increasing the input data, will we be able to reduce the error. For this, I used for loop to iterate over the same data set but with different lengths."
   ]
  },
  {
   "cell_type": "markdown",
   "metadata": {},
   "source": [
    "## Now we can start making the predictions and checking the performance\n",
    "## Let us predict the future close values. To do this we pass on test X, containing data from split to end, to the regression function using the predict() function. We also want to see how well the function has performed, so let us save these values in a new column."
   ]
  },
  {
   "cell_type": "code",
   "execution_count": 1,
   "metadata": {},
   "outputs": [],
   "source": [
    "avg_err={}\n",
    "avg_train_err = {}\n",
    "for t in np.arange(50,97,3):\n",
    "    get_ipython().magic('reset_selective -f reg1')\n",
    "    split = int(t*len(X)/100)\n",
    "    reg.fit(X[:split],y[:split])\n",
    "    best_alpha = reg.best_params_['lasso__alpha']\n",
    "    best_iter = reg.best_params_['lasso__max_iter']\n",
    "    reg1 = Lasso(alpha=best_alpha,max_iter=best_iter)\n",
    "    X = imp.fit_transform(X,y)\n",
    "    reg1.fit(X[:split],y[:split])\n",
    "    df['P_C_%i'%t] = 0.\n",
    "    df.iloc[:,df.columns.get_loc('P_C_%i'%t)] = reg1.predict(X[:])\n",
    "    df['Error_%i'%t] = np.abs(df['P_C_%i'%t]-df['close'])\n",
    "    \n",
    "    e = np.mean(df['Error_%i'%t][split:])\n",
    "    train_e = np.mean(df['Error_%i'%t][:split])\n",
    "    avg_err[t] = e\n",
    "    avg_train_err[t] = train_e"
   ]
  },
  {
   "cell_type": "markdown",
   "metadata": {},
   "source": [
    "## As you might have noticed, I created a new error column to save the absolute error values. Then I took the mean of the absolute error values, which I saved in a dictionary.\n",
    "\n",
    "## Now it's time to plot and see what we got."
   ]
  },
  {
   "cell_type": "code",
   "execution_count": 6,
   "metadata": {},
   "outputs": [
    {
     "name": "stdout",
     "output_type": "stream",
     "text": [
      "\n",
      "Average Range of the Day: 29.626666666666665\n"
     ]
    },
    {
     "data": {
      "image/png": "[encoded data removed]",
      "text/plain": [
       "<Figure size 432x288 with 1 Axes>"
      ]
     },
     "metadata": {
      "needs_background": "light"
     },
     "output_type": "display_data"
    }
   ],
   "source": [
    "Range =df['high'][split:]-df['low'][split:]\n",
    "plt.scatter(list(avg_train_err.keys()),list(avg_train_err.values()),label='train_error')\n",
    "plt.legend(loc='best')\n",
    "print ('\\nAverage Range of the Day:',np.average(Range))"
   ]
  },
  {
   "cell_type": "markdown",
   "metadata": {},
   "source": [
    "### I created a new Range value to hold the average daily trading range of the data. It is a metric that I would like to compare with when I am making a prediction. The logic behind this comparison is that if my prediction error is more than the day’s range then it is likely that it will not be useful.\n",
    "\n",
    "### I might as well use the previous day’s High or Low as the prediction, which will turn out to be more accurate. Please note I have used the split value outside the loop. This implies that the average range of the day that you see here is relevant to the last iteration.\n",
    "## What does this scatter plot tell you? Let me ask you a few questions.\n",
    "\n",
    "* Is the equation over-fitting?\n",
    "* The performance of the data improved remarkably as the train data set size increased. Does this mean if we give more data the error will reduce further?\n",
    "* Is there an inherent trend in the market, allowing us to make better predictions as the data set size increases?\n",
    "* Last but the best question How will we use these predictions to create a trading strategy?\n",
    "### Q: Is the equation over-fitting?\n",
    "### A: This was the first question I had asked. To know if your data is overfitting or not, the best way to test it would be to check the prediction error that the algorithm makes in the train and test data.\n",
    "### To do this, we will have to add a small piece of code to the already written code."
   ]
  },
  {
   "cell_type": "code",
   "execution_count": 7,
   "metadata": {},
   "outputs": [
    {
     "name": "stdout",
     "output_type": "stream",
     "text": [
      "\n",
      "Average Range of the Day: 29.626666666666665\n"
     ]
    },
    {
     "data": {
      "image/png": "[encoded data removed]",
      "text/plain": [
       "<Figure size 432x288 with 1 Axes>"
      ]
     },
     "metadata": {
      "needs_background": "light"
     },
     "output_type": "display_data"
    }
   ],
   "source": [
    "Range =df['high'][split:]-df['low'][split:]\n",
    "# ------------------------------------------------------------------------ added code below.\n",
    "plt.scatter(list(avg_err.keys()),list(avg_err.values()), label='test_error')\n",
    "# ---------------------------------------------------------------------------\n",
    "plt.scatter(list(avg_train_err.keys()),list(avg_train_err.values()),label='train_error')\n",
    "plt.legend(loc='best')\n",
    "print ('\\nAverage Range of the Day:',np.average(Range))"
   ]
  },
  {
   "cell_type": "markdown",
   "metadata": {},
   "source": [
    "## If our algorithm is doing better in the test data compared to the train data, is this observation in itself a red flag.?There are a few reasons why our test data error could be better than the train data error:\n",
    "\n",
    "## If the train data had greater volatility (Daily range) compared to the test set, then the prediction would also exhibit greater volatility.\n",
    "### If there was an inherent trend in the market that helped the algo make better predictions.\n",
    "### Now, let us check which of these cases is true. If the range of the test data was less than the train data, then the error should have decreased after passing more than 80% of the data as a train set, but it increases."
   ]
  },
  {
   "cell_type": "markdown",
   "metadata": {},
   "source": [
    "## Q: Can the machine learning algorithm detect the inherent trend or market phase (bull/bear/sideways/breakout/panic)?\n",
    "\n",
    "## Q: Can the database be trimmed in a way to train different algos for different situations\n",
    "\n",
    "## A: The answer to both the questions is YES!\n",
    "\n",
    "### We can divide the market into different regimes and then use these signals to trim the data and train different algorithms for these datasets. To achieve this, I choose to use an unsupervised machine learning algorithm.\n",
    "\n",
    "### From here on, this Python machine learning tutorial will be dedicated to creating an algorithm that can detect the inherent trend in the market without explicitly training for it."
   ]
  },
  {
   "cell_type": "code",
   "execution_count": 8,
   "metadata": {},
   "outputs": [],
   "source": [
    "from pandas_datareader import data as web\n",
    "from sklearn import mixture as mix\n",
    "import seaborn as sns \n",
    "import matplotlib.pyplot as plt"
   ]
  },
  {
   "cell_type": "code",
   "execution_count": 2,
   "metadata": {},
   "outputs": [],
   "source": [
    "df=df[['open','high','low','close']]\n",
    "df['open']=df['open'].shift(1)\n",
    "df['high']=df['high'].shift(1)\n",
    "df['low']=df['low'].shift(1)\n",
    "df['close']=df['close'].shift(1)\n",
    "df=df[['open','high','low','close']]\n",
    "df=df.dropna()"
   ]
  },
  {
   "cell_type": "markdown",
   "metadata": {},
   "source": [
    "# Instantiate an unsupervised machine learning algorithm using the ‘Gaussian mixture’ model from sklearn."
   ]
  },
  {
   "cell_type": "code",
   "execution_count": 10,
   "metadata": {},
   "outputs": [],
   "source": [
    "unsup = mix.GaussianMixture(n_components=5, \n",
    "                            covariance_type=\"spherical\", \n",
    "                            n_init=100, \n",
    "                            random_state=42)"
   ]
  },
  {
   "cell_type": "code",
   "execution_count": 11,
   "metadata": {},
   "outputs": [],
   "source": [
    "unsup.fit(np.reshape(df,(-1,df.shape[1])))\n",
    "regime = unsup.predict(np.reshape(df,(-1,df.shape[1])))"
   ]
  },
  {
   "cell_type": "markdown",
   "metadata": {},
   "source": [
    "# Now let us calculate the returns of the day."
   ]
  },
  {
   "cell_type": "code",
   "execution_count": 12,
   "metadata": {},
   "outputs": [],
   "source": [
    "df['Return']= np.log(df['close']/df['close'].shift(1))"
   ]
  },
  {
   "cell_type": "markdown",
   "metadata": {},
   "source": [
    "# Then, create a dataframe called Regimes which will have the OHLC and Return values along with the corresponding regime classification."
   ]
  },
  {
   "cell_type": "code",
   "execution_count": 13,
   "metadata": {},
   "outputs": [],
   "source": [
    "Regimes=pd.DataFrame(regime,columns=['Regime'],index=df.index)\\\n",
    "                     .join(df, how='inner')\\\n",
    "                          .assign(market_cu_return=df.Return.cumsum())\\\n",
    "                                 .reset_index(drop=False)\\\n",
    "                                             .rename(columns={'index':'Date'})"
   ]
  },
  {
   "cell_type": "markdown",
   "metadata": {},
   "source": [
    "## After this, let us create a list called ‘order’ that has the values corresponding to the regime classification, and then plot these values to see how well the algo has classified."
   ]
  },
  {
   "cell_type": "markdown",
   "metadata": {},
   "source": [
    "# The final regime differentiation would look like this:\n",
    "\n"
   ]
  },
  {
   "cell_type": "code",
   "execution_count": 14,
   "metadata": {},
   "outputs": [
    {
     "name": "stderr",
     "output_type": "stream",
     "text": [
      "C:\\Users\\tbrid\\anaconda3\\lib\\site-packages\\seaborn\\axisgrid.py:316: UserWarning: The `size` parameter has been renamed to `height`; please update your code.\n",
      "  warnings.warn(msg, UserWarning)\n"
     ]
    },
    {
     "data": {
      "image/png": "[encoded data removed]",
      "text/plain": [
       "<Figure size 621.5x288 with 1 Axes>"
      ]
     },
     "metadata": {
      "needs_background": "light"
     },
     "output_type": "display_data"
    }
   ],
   "source": [
    "order=[0,1,2,3,4]\n",
    "fig = sns.FacetGrid(data=Regimes,hue='Regime',hue_order=order,aspect=2,size= 4)\n",
    "fig.map(plt.scatter,'Date','market_cu_return', s=4).add_legend()\n",
    "plt.show()"
   ]
  },
  {
   "cell_type": "markdown",
   "metadata": {},
   "source": [
    "### This graph looks pretty good to me. Without actually looking at the factors based on which the classification was done, we can conclude a few things just by looking at the chart.\n",
    "\n",
    "1. The purble zone is the low volatility or the sideways zone\n",
    "2. The orange zone is high volatility zone or panic zone.\n",
    "3. The green zone is a breakout up/down zone.\n",
    "4. The orange zone: high Mean, low covariance zone.\n",
    "5. The purple zone high mean low covariance i really have no clue besided looks toppy abd rangey\n",
    "* Use the code below to print the relevant data for each regime"
   ]
  },
  {
   "cell_type": "code",
   "execution_count": 15,
   "metadata": {},
   "outputs": [
    {
     "name": "stdout",
     "output_type": "stream",
     "text": [
      "Mean for regime 0:  57430.800555813905\n",
      "Co-Variancefor regime 0:  14081.909634159638\n",
      "Mean for regime 1:  55028.85850112677\n",
      "Co-Variancefor regime 1:  98799.55240373475\n",
      "Mean for regime 2:  56244.499713608864\n",
      "Co-Variancefor regime 2:  10306.991471575333\n",
      "Mean for regime 3:  58230.791366906305\n",
      "Co-Variancefor regime 3:  14025.637339399887\n",
      "Mean for regime 4:  57001.46414208221\n",
      "Co-Variancefor regime 4:  6591.026571558548\n"
     ]
    }
   ],
   "source": [
    "for i in order:\n",
    "    print('Mean for regime %i: '%i,unsup.means_[i][0])\n",
    "    print('Co-Variancefor regime %i: '%i,(unsup.covariances_[i]))\n",
    "    \n",
    "# The output would look like this:"
   ]
  },
  {
   "cell_type": "markdown",
   "metadata": {},
   "source": [
    "### The data can be inferred as follows:\n",
    "0. Regime 0: high mean and low covariance.\n",
    "1. Regime 1: low mean and high covariance.  \n",
    "2. Regime 2: mid range mean and low covariance.\n",
    "3. Regime 3: high mean and low covariance.\n",
    "4. Regime 4: mid mean low covariance."
   ]
  },
  {
   "cell_type": "code",
   "execution_count": null,
   "metadata": {},
   "outputs": [],
   "source": []
  }
 ],
 "metadata": {
  "kernelspec": {
   "display_name": "Python 3",
   "language": "python",
   "name": "python3"
  },
  "language_info": {
   "codemirror_mode": {
    "name": "ipython",
    "version": 3
   },
   "file_extension": ".py",
   "mimetype": "text/x-python",
   "name": "python",
   "nbconvert_exporter": "python",
   "pygments_lexer": "ipython3",
   "version": "3.8.5"
  }
 },
 "nbformat": 4,
 "nbformat_minor": 4
}
