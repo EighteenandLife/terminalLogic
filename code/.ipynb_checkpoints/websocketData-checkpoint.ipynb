{
 "cells": [
  {
   "cell_type": "code",
   "execution_count": 1,
   "metadata": {},
   "outputs": [],
   "source": [
    "import pandas as pd\n",
    "import numpy as np\n",
    "import time\n",
    "import matplotlib.pyplot as plt\n",
    "import terminalLogic\n",
    "from terminalLogic import Algo\n",
    "import client\n",
    "from client import engine"
   ]
  },
  {
   "cell_type": "code",
   "execution_count": 2,
   "metadata": {},
   "outputs": [
    {
     "name": "stderr",
     "output_type": "stream",
     "text": [
      "ERROR: Could not find a version that satisfies the requirement thread (from versions: none)\n",
      "ERROR: No matching distribution found for thread\n"
     ]
    }
   ],
   "source": [
    "#!/usr/bin/python\n",
    "import websocket\n",
    "!pip install thread\n",
    "import pandas as pd \n",
    "import numpy as np \n",
    "import json \n",
    "import hmac \n",
    "import time \n",
    "import websocket"
   ]
  },
  {
   "cell_type": "code",
   "execution_count": 3,
   "metadata": {
    "scrolled": false
   },
   "outputs": [
    {
     "ename": "SyntaxError",
     "evalue": "invalid syntax (<ipython-input-3-c3775744b890>, line 24)",
     "output_type": "error",
     "traceback": [
      "\u001b[1;36m  File \u001b[1;32m\"<ipython-input-3-c3775744b890>\"\u001b[1;36m, line \u001b[1;32m24\u001b[0m\n\u001b[1;33m    def on_error(ws,error):\u001b[0m\n\u001b[1;37m    ^\u001b[0m\n\u001b[1;31mSyntaxError\u001b[0m\u001b[1;31m:\u001b[0m invalid syntax\n"
     ]
    }
   ],
   "source": [
    "socket = 'wss://ftx.com/ws/'\n",
    "api_key = '13tLs18EEiz6pYp4QD77dM0mkctM1jWPbs1THoDv'\n",
    "secret_key = '0qDUuVo59mKew5-v9jcY9Kb79wYbHE-TMk9nf85k'\n",
    "data=[]\n",
    "currentTick=None\n",
    "def on_open(ws):\n",
    "    print('connected')\n",
    "    ts = int(time.time() * 1000)\n",
    "    signa = hmac.new(secret_key.encode(), f'{ts}websocket_login'.encode(), 'sha256').hexdigest()\n",
    "    auth = {'op': 'login', 'args': {'key': api_key,\n",
    "                                'sign': signa, \n",
    "                                'time': ts}}\n",
    "    ws.send(json.dumps(auth))\n",
    "    data = {'op': 'subscribe', 'channel': 'ticker', 'market': 'BTC-PERP'}\n",
    "    ws.send(json.dumps(data))\n",
    "\n",
    "def on_close(ws):\n",
    "    print('disconnected')\n",
    "def on_message(ws,message):\n",
    "    global data, currentTick\n",
    "    currentTick = json.loads(message)\n",
    "    print(currentTick['data'])\n",
    "    data.append(currentTick['data'])\n",
    "\n",
    "def on_error(ws,error):\n",
    "    print(error)\n",
    "\n",
    "ws = websocket.WebSocketApp(socket,on_open=on_open,on_close=on_close,on_message=on_message,on_error=on_error)\n",
    "\n",
    "ws.run_forever()"
   ]
  },
  {
   "cell_type": "code",
   "execution_count": null,
   "metadata": {
    "scrolled": false
   },
   "outputs": [],
   "source": [
    "data\n",
    "last=[]\n",
    "time=[]\n",
    "for dict in data:\n",
    "    last.append(dict['last'])\n",
    "    last.append(dict['time'])\n",
    "    \n",
    "last\n",
    "\n"
   ]
  },
  {
   "cell_type": "code",
   "execution_count": null,
   "metadata": {},
   "outputs": [],
   "source": [
    "import asyncio"
   ]
  },
  {
   "cell_type": "code",
   "execution_count": null,
   "metadata": {},
   "outputs": [],
   "source": [
    "async def listen();\n",
    "url = "
   ]
  },
  {
   "cell_type": "code",
   "execution_count": null,
   "metadata": {},
   "outputs": [],
   "source": [
    "# df = engine.getData('BTC-PERP')\n",
    "# df['time'] = pd.to_datetime(df['time'], unit='ms')\n",
    "# df = df[::-1]\n",
    "# df = Algo.fullstate(df,df)\n",
    "# df['just_date'] = df['time'].dt.date\n",
    "# dfT=df.dropna()\n",
    "# dfT['sign'] = np.where(dfT['trend_returns'] < 0, 'neg','pos')\n",
    "# #consecutive groups\n",
    "# dfT['series'] = dfT['sign'].ne(dfT['sign'].shift()).cumsum()\n",
    "# #removed groups with length more like 2\n",
    "# df2 = dfT[dfT['series'].map(dfT['series'].value_counts()).gt(2)]\n",
    "# #tested if order `pos-neg` of groups, if not removed groups\n",
    "# m3 = df2['sign'].eq('pos') & df2['sign'].shift(-1).eq('neg')\n",
    "# m4 = df2['sign'].eq('neg') & df2['sign'].shift().eq('pos')\n",
    "# groupsT = df2.loc[m3 | m4, 'series']\n",
    "# df2 = df2[df2['series'].isin(groupsT)].copy()\n",
    "# df2['pairs'] = (df2['sign'].ne(df2['sign'].shift()) & df2['sign'].eq('pos')).cumsum()\n",
    "# trendTradeCounts = df2['series'].nunique()\n",
    "# dataframe = df2.filter(['just_date', 'close', 'range_returns', 'sign', 'series', 'pairs'], axis=1)\n",
    "# seriesRets = pd.DataFrame(columns=['seriesID', 'sign', 'seriesRets'])\n",
    "# seriesRets['seriesRets'] = dataframe.groupby(['series', 'sign'])['range_returns'].transform('sum')\n",
    "# seriesRets['seriesID'] = dataframe['series']\n",
    "# seriesRets['sign'] = dataframe['sign']\n",
    "# seriesRets = seriesRets.drop_duplicates()\n",
    "# total = seriesRets['seriesRets'].sum()\n",
    "# total = total.astype('float64')\n",
    "# totes = float(\"{:.8f}\".format(total))\n",
    "# tradeCount = seriesRets['seriesID'].nunique()\n",
    "# meanTrade = totes / tradeCount\n",
    "# st_dev = seriesRets['seriesRets'].std()\n",
    "# score = seriesRets['seriesRets'].values\n",
    "# zScore = (score - meanTrade) / st_dev\n",
    "# seriesRets['ZScore'] = zScore\n",
    "# trade = {'Algo':['Range'],\n",
    "#          'tradeCount':[tradeCount],\n",
    "#          'total':[totes],\n",
    "#          'mean':[meanTrade],\n",
    "#          'st_dev':[st_dev],\n",
    "#          'Zscore':[zScore]\n",
    "#           }\n",
    "# tradeDf = pd.DataFrame(trade)\n",
    "# zScore.sum()\n"
   ]
  },
  {
   "cell_type": "code",
   "execution_count": null,
   "metadata": {},
   "outputs": [],
   "source": []
  }
 ],
 "metadata": {
  "kernelspec": {
   "display_name": "Python 3",
   "language": "python",
   "name": "python3"
  },
  "language_info": {
   "codemirror_mode": {
    "name": "ipython",
    "version": 3
   },
   "file_extension": ".py",
   "mimetype": "text/x-python",
   "name": "python",
   "nbconvert_exporter": "python",
   "pygments_lexer": "ipython3",
   "version": "3.8.5"
  }
 },
 "nbformat": 4,
 "nbformat_minor": 4
}
