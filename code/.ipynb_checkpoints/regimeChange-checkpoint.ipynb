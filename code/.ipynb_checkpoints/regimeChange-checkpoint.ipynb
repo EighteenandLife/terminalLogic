{
 "cells": [
  {
   "cell_type": "code",
   "execution_count": 1,
   "metadata": {},
   "outputs": [],
   "source": [
    "from pandas_datareader import data as web\n",
    "import numpy as np\n",
    "import pandas as pd\n",
    "from sklearn.linear_model import Lasso\n",
    "from sklearn.preprocessing import StandardScaler\n",
    "from sklearn.model_selection import RandomizedSearchCV as rcv\n",
    "from sklearn.pipeline import Pipeline\n",
    "from sklearn.impute import SimpleImputer\n",
    "imputer = SimpleImputer(missing_values=np.nan, strategy='mean') \n",
    "import matplotlib.pyplot as plt\n",
    "from IPython import get_ipython\n",
    "import requests\n",
    "import matplotlib.pyplot as plt\n",
    "import terminalLogic\n",
    "from terminalLogic import Algo\n",
    "import client\n",
    "from client import engine\n",
    "from typing import Optional, Dict, Any, List\n",
    "from ciso8601 import parse_datetime\n",
    "from requests import Request, Session, Response\n",
    "import sys\n",
    "import hmac\n",
    "import urllib.parse\n",
    "import time\n",
    "import datetime"
   ]
  },
  {
   "cell_type": "code",
   "execution_count": 2,
   "metadata": {},
   "outputs": [
    {
     "data": {
      "text/html": [
       "<div>\n",
       "<style scoped>\n",
       "    .dataframe tbody tr th:only-of-type {\n",
       "        vertical-align: middle;\n",
       "    }\n",
       "\n",
       "    .dataframe tbody tr th {\n",
       "        vertical-align: top;\n",
       "    }\n",
       "\n",
       "    .dataframe thead th {\n",
       "        text-align: right;\n",
       "    }\n",
       "</style>\n",
       "<table border=\"1\" class=\"dataframe\">\n",
       "  <thead>\n",
       "    <tr style=\"text-align: right;\">\n",
       "      <th></th>\n",
       "      <th>time</th>\n",
       "      <th>open</th>\n",
       "      <th>high</th>\n",
       "      <th>low</th>\n",
       "      <th>close</th>\n",
       "      <th>volume</th>\n",
       "    </tr>\n",
       "  </thead>\n",
       "  <tbody>\n",
       "    <tr>\n",
       "      <th>1499</th>\n",
       "      <td>2021-10-31 18:01:00</td>\n",
       "      <td>60655.0</td>\n",
       "      <td>60757.0</td>\n",
       "      <td>60653.0</td>\n",
       "      <td>60757.0</td>\n",
       "      <td>368397.3408</td>\n",
       "    </tr>\n",
       "    <tr>\n",
       "      <th>1498</th>\n",
       "      <td>2021-10-31 18:00:00</td>\n",
       "      <td>60667.0</td>\n",
       "      <td>60667.0</td>\n",
       "      <td>60654.0</td>\n",
       "      <td>60655.0</td>\n",
       "      <td>55146.0440</td>\n",
       "    </tr>\n",
       "    <tr>\n",
       "      <th>1497</th>\n",
       "      <td>2021-10-31 17:59:00</td>\n",
       "      <td>60693.0</td>\n",
       "      <td>60693.0</td>\n",
       "      <td>60667.0</td>\n",
       "      <td>60667.0</td>\n",
       "      <td>104014.1349</td>\n",
       "    </tr>\n",
       "    <tr>\n",
       "      <th>1496</th>\n",
       "      <td>2021-10-31 17:58:00</td>\n",
       "      <td>60714.0</td>\n",
       "      <td>60719.0</td>\n",
       "      <td>60690.0</td>\n",
       "      <td>60693.0</td>\n",
       "      <td>57390.2203</td>\n",
       "    </tr>\n",
       "    <tr>\n",
       "      <th>1495</th>\n",
       "      <td>2021-10-31 17:57:00</td>\n",
       "      <td>60765.0</td>\n",
       "      <td>60774.0</td>\n",
       "      <td>60714.0</td>\n",
       "      <td>60714.0</td>\n",
       "      <td>71768.7143</td>\n",
       "    </tr>\n",
       "    <tr>\n",
       "      <th>...</th>\n",
       "      <td>...</td>\n",
       "      <td>...</td>\n",
       "      <td>...</td>\n",
       "      <td>...</td>\n",
       "      <td>...</td>\n",
       "      <td>...</td>\n",
       "    </tr>\n",
       "    <tr>\n",
       "      <th>4</th>\n",
       "      <td>2021-10-30 17:06:00</td>\n",
       "      <td>61182.0</td>\n",
       "      <td>61183.0</td>\n",
       "      <td>61141.0</td>\n",
       "      <td>61151.0</td>\n",
       "      <td>96543.1322</td>\n",
       "    </tr>\n",
       "    <tr>\n",
       "      <th>3</th>\n",
       "      <td>2021-10-30 17:05:00</td>\n",
       "      <td>61181.0</td>\n",
       "      <td>61225.0</td>\n",
       "      <td>61181.0</td>\n",
       "      <td>61182.0</td>\n",
       "      <td>83597.6415</td>\n",
       "    </tr>\n",
       "    <tr>\n",
       "      <th>2</th>\n",
       "      <td>2021-10-30 17:04:00</td>\n",
       "      <td>61203.0</td>\n",
       "      <td>61204.0</td>\n",
       "      <td>61181.0</td>\n",
       "      <td>61181.0</td>\n",
       "      <td>62998.1790</td>\n",
       "    </tr>\n",
       "    <tr>\n",
       "      <th>1</th>\n",
       "      <td>2021-10-30 17:03:00</td>\n",
       "      <td>61273.0</td>\n",
       "      <td>61273.0</td>\n",
       "      <td>61201.0</td>\n",
       "      <td>61203.0</td>\n",
       "      <td>598716.7579</td>\n",
       "    </tr>\n",
       "    <tr>\n",
       "      <th>0</th>\n",
       "      <td>2021-10-30 17:02:00</td>\n",
       "      <td>61241.0</td>\n",
       "      <td>61273.0</td>\n",
       "      <td>61241.0</td>\n",
       "      <td>61273.0</td>\n",
       "      <td>40220.8619</td>\n",
       "    </tr>\n",
       "  </tbody>\n",
       "</table>\n",
       "<p>1500 rows × 6 columns</p>\n",
       "</div>"
      ],
      "text/plain": [
       "                    time     open     high      low    close       volume\n",
       "1499 2021-10-31 18:01:00  60655.0  60757.0  60653.0  60757.0  368397.3408\n",
       "1498 2021-10-31 18:00:00  60667.0  60667.0  60654.0  60655.0   55146.0440\n",
       "1497 2021-10-31 17:59:00  60693.0  60693.0  60667.0  60667.0  104014.1349\n",
       "1496 2021-10-31 17:58:00  60714.0  60719.0  60690.0  60693.0   57390.2203\n",
       "1495 2021-10-31 17:57:00  60765.0  60774.0  60714.0  60714.0   71768.7143\n",
       "...                  ...      ...      ...      ...      ...          ...\n",
       "4    2021-10-30 17:06:00  61182.0  61183.0  61141.0  61151.0   96543.1322\n",
       "3    2021-10-30 17:05:00  61181.0  61225.0  61181.0  61182.0   83597.6415\n",
       "2    2021-10-30 17:04:00  61203.0  61204.0  61181.0  61181.0   62998.1790\n",
       "1    2021-10-30 17:03:00  61273.0  61273.0  61201.0  61203.0  598716.7579\n",
       "0    2021-10-30 17:02:00  61241.0  61273.0  61241.0  61273.0   40220.8619\n",
       "\n",
       "[1500 rows x 6 columns]"
      ]
     },
     "execution_count": 2,
     "metadata": {},
     "output_type": "execute_result"
    }
   ],
   "source": [
    "url = engine()\n",
    "data = url.getData()\n",
    "df = data\n",
    "df = df[::-1]\n",
    "df"
   ]
  },
  {
   "cell_type": "markdown",
   "metadata": {},
   "source": [
    "# Creating Hyperparameters\n",
    "## Although the concept of hyper-parameters is worthy of a blog in itself, for now I will just say a few words about them. These are the parameters that the machine learning algorithm can’t learn over but needs to be iterated over. We use them to see which predefined functions or parameters yield the best fit function."
   ]
  },
  {
   "cell_type": "code",
   "execution_count": 3,
   "metadata": {},
   "outputs": [],
   "source": [
    "imp = SimpleImputer(missing_values=np.nan, strategy='mean')\n",
    "steps = [('imputation', imp),\n",
    "         ('scaler',StandardScaler()),\n",
    "         ('lasso',Lasso())]        \n",
    "\n",
    "pipeline =Pipeline(steps)\n",
    "\n",
    "\n",
    "parameters = {'lasso__alpha':np.arange(0.0001,10,.0001),\n",
    "              'lasso__max_iter':np.random.uniform(100,100000,4)}\n",
    "\n",
    "\n",
    "reg = rcv(pipeline, parameters,cv=5)"
   ]
  },
  {
   "cell_type": "markdown",
   "metadata": {},
   "source": [
    "# Splitting the data into test and train sets\n"
   ]
  },
  {
   "cell_type": "code",
   "execution_count": 4,
   "metadata": {},
   "outputs": [],
   "source": [
    "X=df[['open','high','low','close']]\n",
    "y =df['close']\n",
    "avg_err={}\n"
   ]
  },
  {
   "cell_type": "markdown",
   "metadata": {},
   "source": [
    "# Getting the best fit parameters to create a new function\n",
    "\n",
    "## I want to measure the performance of the regression function as compared to the size of the input dataset. In other words, I want to see if by increasing the input data, will we be able to reduce the error. For this, I used for loop to iterate over the same data set but with different lengths."
   ]
  },
  {
   "cell_type": "markdown",
   "metadata": {},
   "source": [
    "## Now we can start making the predictions and checking the performance\n",
    "## Let us predict the future close values. To do this we pass on test X, containing data from split to end, to the regression function using the predict() function. We also want to see how well the function has performed, so let us save these values in a new column."
   ]
  },
  {
   "cell_type": "code",
   "execution_count": 5,
   "metadata": {},
   "outputs": [
    {
     "name": "stderr",
     "output_type": "stream",
     "text": [
      "<ipython-input-5-5bcc884282c3>:12: SettingWithCopyWarning: \n",
      "A value is trying to be set on a copy of a slice from a DataFrame.\n",
      "Try using .loc[row_indexer,col_indexer] = value instead\n",
      "\n",
      "See the caveats in the documentation: https://pandas.pydata.org/pandas-docs/stable/user_guide/indexing.html#returning-a-view-versus-a-copy\n",
      "  df['P_C_%i'%t] = 0.\n",
      "C:\\Users\\tbrid\\anaconda3\\lib\\site-packages\\pandas\\core\\indexing.py:1743: SettingWithCopyWarning: \n",
      "A value is trying to be set on a copy of a slice from a DataFrame.\n",
      "Try using .loc[row_indexer,col_indexer] = value instead\n",
      "\n",
      "See the caveats in the documentation: https://pandas.pydata.org/pandas-docs/stable/user_guide/indexing.html#returning-a-view-versus-a-copy\n",
      "  isetter(ilocs[0], value)\n",
      "<ipython-input-5-5bcc884282c3>:14: SettingWithCopyWarning: \n",
      "A value is trying to be set on a copy of a slice from a DataFrame.\n",
      "Try using .loc[row_indexer,col_indexer] = value instead\n",
      "\n",
      "See the caveats in the documentation: https://pandas.pydata.org/pandas-docs/stable/user_guide/indexing.html#returning-a-view-versus-a-copy\n",
      "  df['Error_%i'%t] = np.abs(df['P_C_%i'%t]-df['close'])\n",
      "<ipython-input-5-5bcc884282c3>:12: SettingWithCopyWarning: \n",
      "A value is trying to be set on a copy of a slice from a DataFrame.\n",
      "Try using .loc[row_indexer,col_indexer] = value instead\n",
      "\n",
      "See the caveats in the documentation: https://pandas.pydata.org/pandas-docs/stable/user_guide/indexing.html#returning-a-view-versus-a-copy\n",
      "  df['P_C_%i'%t] = 0.\n",
      "C:\\Users\\tbrid\\anaconda3\\lib\\site-packages\\pandas\\core\\indexing.py:1743: SettingWithCopyWarning: \n",
      "A value is trying to be set on a copy of a slice from a DataFrame.\n",
      "Try using .loc[row_indexer,col_indexer] = value instead\n",
      "\n",
      "See the caveats in the documentation: https://pandas.pydata.org/pandas-docs/stable/user_guide/indexing.html#returning-a-view-versus-a-copy\n",
      "  isetter(ilocs[0], value)\n",
      "<ipython-input-5-5bcc884282c3>:14: SettingWithCopyWarning: \n",
      "A value is trying to be set on a copy of a slice from a DataFrame.\n",
      "Try using .loc[row_indexer,col_indexer] = value instead\n",
      "\n",
      "See the caveats in the documentation: https://pandas.pydata.org/pandas-docs/stable/user_guide/indexing.html#returning-a-view-versus-a-copy\n",
      "  df['Error_%i'%t] = np.abs(df['P_C_%i'%t]-df['close'])\n",
      "<ipython-input-5-5bcc884282c3>:12: SettingWithCopyWarning: \n",
      "A value is trying to be set on a copy of a slice from a DataFrame.\n",
      "Try using .loc[row_indexer,col_indexer] = value instead\n",
      "\n",
      "See the caveats in the documentation: https://pandas.pydata.org/pandas-docs/stable/user_guide/indexing.html#returning-a-view-versus-a-copy\n",
      "  df['P_C_%i'%t] = 0.\n",
      "C:\\Users\\tbrid\\anaconda3\\lib\\site-packages\\pandas\\core\\indexing.py:1743: SettingWithCopyWarning: \n",
      "A value is trying to be set on a copy of a slice from a DataFrame.\n",
      "Try using .loc[row_indexer,col_indexer] = value instead\n",
      "\n",
      "See the caveats in the documentation: https://pandas.pydata.org/pandas-docs/stable/user_guide/indexing.html#returning-a-view-versus-a-copy\n",
      "  isetter(ilocs[0], value)\n",
      "<ipython-input-5-5bcc884282c3>:14: SettingWithCopyWarning: \n",
      "A value is trying to be set on a copy of a slice from a DataFrame.\n",
      "Try using .loc[row_indexer,col_indexer] = value instead\n",
      "\n",
      "See the caveats in the documentation: https://pandas.pydata.org/pandas-docs/stable/user_guide/indexing.html#returning-a-view-versus-a-copy\n",
      "  df['Error_%i'%t] = np.abs(df['P_C_%i'%t]-df['close'])\n",
      "<ipython-input-5-5bcc884282c3>:12: SettingWithCopyWarning: \n",
      "A value is trying to be set on a copy of a slice from a DataFrame.\n",
      "Try using .loc[row_indexer,col_indexer] = value instead\n",
      "\n",
      "See the caveats in the documentation: https://pandas.pydata.org/pandas-docs/stable/user_guide/indexing.html#returning-a-view-versus-a-copy\n",
      "  df['P_C_%i'%t] = 0.\n",
      "C:\\Users\\tbrid\\anaconda3\\lib\\site-packages\\pandas\\core\\indexing.py:1743: SettingWithCopyWarning: \n",
      "A value is trying to be set on a copy of a slice from a DataFrame.\n",
      "Try using .loc[row_indexer,col_indexer] = value instead\n",
      "\n",
      "See the caveats in the documentation: https://pandas.pydata.org/pandas-docs/stable/user_guide/indexing.html#returning-a-view-versus-a-copy\n",
      "  isetter(ilocs[0], value)\n",
      "<ipython-input-5-5bcc884282c3>:14: SettingWithCopyWarning: \n",
      "A value is trying to be set on a copy of a slice from a DataFrame.\n",
      "Try using .loc[row_indexer,col_indexer] = value instead\n",
      "\n",
      "See the caveats in the documentation: https://pandas.pydata.org/pandas-docs/stable/user_guide/indexing.html#returning-a-view-versus-a-copy\n",
      "  df['Error_%i'%t] = np.abs(df['P_C_%i'%t]-df['close'])\n",
      "<ipython-input-5-5bcc884282c3>:12: SettingWithCopyWarning: \n",
      "A value is trying to be set on a copy of a slice from a DataFrame.\n",
      "Try using .loc[row_indexer,col_indexer] = value instead\n",
      "\n",
      "See the caveats in the documentation: https://pandas.pydata.org/pandas-docs/stable/user_guide/indexing.html#returning-a-view-versus-a-copy\n",
      "  df['P_C_%i'%t] = 0.\n",
      "C:\\Users\\tbrid\\anaconda3\\lib\\site-packages\\pandas\\core\\indexing.py:1743: SettingWithCopyWarning: \n",
      "A value is trying to be set on a copy of a slice from a DataFrame.\n",
      "Try using .loc[row_indexer,col_indexer] = value instead\n",
      "\n",
      "See the caveats in the documentation: https://pandas.pydata.org/pandas-docs/stable/user_guide/indexing.html#returning-a-view-versus-a-copy\n",
      "  isetter(ilocs[0], value)\n",
      "<ipython-input-5-5bcc884282c3>:14: SettingWithCopyWarning: \n",
      "A value is trying to be set on a copy of a slice from a DataFrame.\n",
      "Try using .loc[row_indexer,col_indexer] = value instead\n",
      "\n",
      "See the caveats in the documentation: https://pandas.pydata.org/pandas-docs/stable/user_guide/indexing.html#returning-a-view-versus-a-copy\n",
      "  df['Error_%i'%t] = np.abs(df['P_C_%i'%t]-df['close'])\n",
      "<ipython-input-5-5bcc884282c3>:12: SettingWithCopyWarning: \n",
      "A value is trying to be set on a copy of a slice from a DataFrame.\n",
      "Try using .loc[row_indexer,col_indexer] = value instead\n",
      "\n",
      "See the caveats in the documentation: https://pandas.pydata.org/pandas-docs/stable/user_guide/indexing.html#returning-a-view-versus-a-copy\n",
      "  df['P_C_%i'%t] = 0.\n",
      "C:\\Users\\tbrid\\anaconda3\\lib\\site-packages\\pandas\\core\\indexing.py:1743: SettingWithCopyWarning: \n",
      "A value is trying to be set on a copy of a slice from a DataFrame.\n",
      "Try using .loc[row_indexer,col_indexer] = value instead\n",
      "\n",
      "See the caveats in the documentation: https://pandas.pydata.org/pandas-docs/stable/user_guide/indexing.html#returning-a-view-versus-a-copy\n",
      "  isetter(ilocs[0], value)\n",
      "<ipython-input-5-5bcc884282c3>:14: SettingWithCopyWarning: \n",
      "A value is trying to be set on a copy of a slice from a DataFrame.\n",
      "Try using .loc[row_indexer,col_indexer] = value instead\n",
      "\n",
      "See the caveats in the documentation: https://pandas.pydata.org/pandas-docs/stable/user_guide/indexing.html#returning-a-view-versus-a-copy\n",
      "  df['Error_%i'%t] = np.abs(df['P_C_%i'%t]-df['close'])\n",
      "<ipython-input-5-5bcc884282c3>:12: SettingWithCopyWarning: \n",
      "A value is trying to be set on a copy of a slice from a DataFrame.\n",
      "Try using .loc[row_indexer,col_indexer] = value instead\n",
      "\n",
      "See the caveats in the documentation: https://pandas.pydata.org/pandas-docs/stable/user_guide/indexing.html#returning-a-view-versus-a-copy\n",
      "  df['P_C_%i'%t] = 0.\n",
      "C:\\Users\\tbrid\\anaconda3\\lib\\site-packages\\pandas\\core\\indexing.py:1743: SettingWithCopyWarning: \n",
      "A value is trying to be set on a copy of a slice from a DataFrame.\n",
      "Try using .loc[row_indexer,col_indexer] = value instead\n",
      "\n",
      "See the caveats in the documentation: https://pandas.pydata.org/pandas-docs/stable/user_guide/indexing.html#returning-a-view-versus-a-copy\n",
      "  isetter(ilocs[0], value)\n",
      "<ipython-input-5-5bcc884282c3>:14: SettingWithCopyWarning: \n",
      "A value is trying to be set on a copy of a slice from a DataFrame.\n",
      "Try using .loc[row_indexer,col_indexer] = value instead\n",
      "\n",
      "See the caveats in the documentation: https://pandas.pydata.org/pandas-docs/stable/user_guide/indexing.html#returning-a-view-versus-a-copy\n",
      "  df['Error_%i'%t] = np.abs(df['P_C_%i'%t]-df['close'])\n",
      "<ipython-input-5-5bcc884282c3>:12: SettingWithCopyWarning: \n",
      "A value is trying to be set on a copy of a slice from a DataFrame.\n",
      "Try using .loc[row_indexer,col_indexer] = value instead\n",
      "\n",
      "See the caveats in the documentation: https://pandas.pydata.org/pandas-docs/stable/user_guide/indexing.html#returning-a-view-versus-a-copy\n",
      "  df['P_C_%i'%t] = 0.\n",
      "C:\\Users\\tbrid\\anaconda3\\lib\\site-packages\\pandas\\core\\indexing.py:1743: SettingWithCopyWarning: \n",
      "A value is trying to be set on a copy of a slice from a DataFrame.\n",
      "Try using .loc[row_indexer,col_indexer] = value instead\n",
      "\n",
      "See the caveats in the documentation: https://pandas.pydata.org/pandas-docs/stable/user_guide/indexing.html#returning-a-view-versus-a-copy\n",
      "  isetter(ilocs[0], value)\n",
      "<ipython-input-5-5bcc884282c3>:14: SettingWithCopyWarning: \n",
      "A value is trying to be set on a copy of a slice from a DataFrame.\n",
      "Try using .loc[row_indexer,col_indexer] = value instead\n",
      "\n",
      "See the caveats in the documentation: https://pandas.pydata.org/pandas-docs/stable/user_guide/indexing.html#returning-a-view-versus-a-copy\n",
      "  df['Error_%i'%t] = np.abs(df['P_C_%i'%t]-df['close'])\n"
     ]
    },
    {
     "name": "stderr",
     "output_type": "stream",
     "text": [
      "<ipython-input-5-5bcc884282c3>:12: SettingWithCopyWarning: \n",
      "A value is trying to be set on a copy of a slice from a DataFrame.\n",
      "Try using .loc[row_indexer,col_indexer] = value instead\n",
      "\n",
      "See the caveats in the documentation: https://pandas.pydata.org/pandas-docs/stable/user_guide/indexing.html#returning-a-view-versus-a-copy\n",
      "  df['P_C_%i'%t] = 0.\n",
      "C:\\Users\\tbrid\\anaconda3\\lib\\site-packages\\pandas\\core\\indexing.py:1743: SettingWithCopyWarning: \n",
      "A value is trying to be set on a copy of a slice from a DataFrame.\n",
      "Try using .loc[row_indexer,col_indexer] = value instead\n",
      "\n",
      "See the caveats in the documentation: https://pandas.pydata.org/pandas-docs/stable/user_guide/indexing.html#returning-a-view-versus-a-copy\n",
      "  isetter(ilocs[0], value)\n",
      "<ipython-input-5-5bcc884282c3>:14: SettingWithCopyWarning: \n",
      "A value is trying to be set on a copy of a slice from a DataFrame.\n",
      "Try using .loc[row_indexer,col_indexer] = value instead\n",
      "\n",
      "See the caveats in the documentation: https://pandas.pydata.org/pandas-docs/stable/user_guide/indexing.html#returning-a-view-versus-a-copy\n",
      "  df['Error_%i'%t] = np.abs(df['P_C_%i'%t]-df['close'])\n",
      "<ipython-input-5-5bcc884282c3>:12: SettingWithCopyWarning: \n",
      "A value is trying to be set on a copy of a slice from a DataFrame.\n",
      "Try using .loc[row_indexer,col_indexer] = value instead\n",
      "\n",
      "See the caveats in the documentation: https://pandas.pydata.org/pandas-docs/stable/user_guide/indexing.html#returning-a-view-versus-a-copy\n",
      "  df['P_C_%i'%t] = 0.\n",
      "C:\\Users\\tbrid\\anaconda3\\lib\\site-packages\\pandas\\core\\indexing.py:1743: SettingWithCopyWarning: \n",
      "A value is trying to be set on a copy of a slice from a DataFrame.\n",
      "Try using .loc[row_indexer,col_indexer] = value instead\n",
      "\n",
      "See the caveats in the documentation: https://pandas.pydata.org/pandas-docs/stable/user_guide/indexing.html#returning-a-view-versus-a-copy\n",
      "  isetter(ilocs[0], value)\n",
      "<ipython-input-5-5bcc884282c3>:14: SettingWithCopyWarning: \n",
      "A value is trying to be set on a copy of a slice from a DataFrame.\n",
      "Try using .loc[row_indexer,col_indexer] = value instead\n",
      "\n",
      "See the caveats in the documentation: https://pandas.pydata.org/pandas-docs/stable/user_guide/indexing.html#returning-a-view-versus-a-copy\n",
      "  df['Error_%i'%t] = np.abs(df['P_C_%i'%t]-df['close'])\n",
      "<ipython-input-5-5bcc884282c3>:12: SettingWithCopyWarning: \n",
      "A value is trying to be set on a copy of a slice from a DataFrame.\n",
      "Try using .loc[row_indexer,col_indexer] = value instead\n",
      "\n",
      "See the caveats in the documentation: https://pandas.pydata.org/pandas-docs/stable/user_guide/indexing.html#returning-a-view-versus-a-copy\n",
      "  df['P_C_%i'%t] = 0.\n",
      "C:\\Users\\tbrid\\anaconda3\\lib\\site-packages\\pandas\\core\\indexing.py:1743: SettingWithCopyWarning: \n",
      "A value is trying to be set on a copy of a slice from a DataFrame.\n",
      "Try using .loc[row_indexer,col_indexer] = value instead\n",
      "\n",
      "See the caveats in the documentation: https://pandas.pydata.org/pandas-docs/stable/user_guide/indexing.html#returning-a-view-versus-a-copy\n",
      "  isetter(ilocs[0], value)\n",
      "<ipython-input-5-5bcc884282c3>:14: SettingWithCopyWarning: \n",
      "A value is trying to be set on a copy of a slice from a DataFrame.\n",
      "Try using .loc[row_indexer,col_indexer] = value instead\n",
      "\n",
      "See the caveats in the documentation: https://pandas.pydata.org/pandas-docs/stable/user_guide/indexing.html#returning-a-view-versus-a-copy\n",
      "  df['Error_%i'%t] = np.abs(df['P_C_%i'%t]-df['close'])\n",
      "<ipython-input-5-5bcc884282c3>:12: SettingWithCopyWarning: \n",
      "A value is trying to be set on a copy of a slice from a DataFrame.\n",
      "Try using .loc[row_indexer,col_indexer] = value instead\n",
      "\n",
      "See the caveats in the documentation: https://pandas.pydata.org/pandas-docs/stable/user_guide/indexing.html#returning-a-view-versus-a-copy\n",
      "  df['P_C_%i'%t] = 0.\n",
      "C:\\Users\\tbrid\\anaconda3\\lib\\site-packages\\pandas\\core\\indexing.py:1743: SettingWithCopyWarning: \n",
      "A value is trying to be set on a copy of a slice from a DataFrame.\n",
      "Try using .loc[row_indexer,col_indexer] = value instead\n",
      "\n",
      "See the caveats in the documentation: https://pandas.pydata.org/pandas-docs/stable/user_guide/indexing.html#returning-a-view-versus-a-copy\n",
      "  isetter(ilocs[0], value)\n",
      "<ipython-input-5-5bcc884282c3>:14: SettingWithCopyWarning: \n",
      "A value is trying to be set on a copy of a slice from a DataFrame.\n",
      "Try using .loc[row_indexer,col_indexer] = value instead\n",
      "\n",
      "See the caveats in the documentation: https://pandas.pydata.org/pandas-docs/stable/user_guide/indexing.html#returning-a-view-versus-a-copy\n",
      "  df['Error_%i'%t] = np.abs(df['P_C_%i'%t]-df['close'])\n",
      "<ipython-input-5-5bcc884282c3>:12: SettingWithCopyWarning: \n",
      "A value is trying to be set on a copy of a slice from a DataFrame.\n",
      "Try using .loc[row_indexer,col_indexer] = value instead\n",
      "\n",
      "See the caveats in the documentation: https://pandas.pydata.org/pandas-docs/stable/user_guide/indexing.html#returning-a-view-versus-a-copy\n",
      "  df['P_C_%i'%t] = 0.\n",
      "C:\\Users\\tbrid\\anaconda3\\lib\\site-packages\\pandas\\core\\indexing.py:1743: SettingWithCopyWarning: \n",
      "A value is trying to be set on a copy of a slice from a DataFrame.\n",
      "Try using .loc[row_indexer,col_indexer] = value instead\n",
      "\n",
      "See the caveats in the documentation: https://pandas.pydata.org/pandas-docs/stable/user_guide/indexing.html#returning-a-view-versus-a-copy\n",
      "  isetter(ilocs[0], value)\n",
      "<ipython-input-5-5bcc884282c3>:14: SettingWithCopyWarning: \n",
      "A value is trying to be set on a copy of a slice from a DataFrame.\n",
      "Try using .loc[row_indexer,col_indexer] = value instead\n",
      "\n",
      "See the caveats in the documentation: https://pandas.pydata.org/pandas-docs/stable/user_guide/indexing.html#returning-a-view-versus-a-copy\n",
      "  df['Error_%i'%t] = np.abs(df['P_C_%i'%t]-df['close'])\n",
      "<ipython-input-5-5bcc884282c3>:12: SettingWithCopyWarning: \n",
      "A value is trying to be set on a copy of a slice from a DataFrame.\n",
      "Try using .loc[row_indexer,col_indexer] = value instead\n",
      "\n",
      "See the caveats in the documentation: https://pandas.pydata.org/pandas-docs/stable/user_guide/indexing.html#returning-a-view-versus-a-copy\n",
      "  df['P_C_%i'%t] = 0.\n",
      "C:\\Users\\tbrid\\anaconda3\\lib\\site-packages\\pandas\\core\\indexing.py:1743: SettingWithCopyWarning: \n",
      "A value is trying to be set on a copy of a slice from a DataFrame.\n",
      "Try using .loc[row_indexer,col_indexer] = value instead\n",
      "\n",
      "See the caveats in the documentation: https://pandas.pydata.org/pandas-docs/stable/user_guide/indexing.html#returning-a-view-versus-a-copy\n",
      "  isetter(ilocs[0], value)\n",
      "<ipython-input-5-5bcc884282c3>:14: SettingWithCopyWarning: \n",
      "A value is trying to be set on a copy of a slice from a DataFrame.\n",
      "Try using .loc[row_indexer,col_indexer] = value instead\n",
      "\n",
      "See the caveats in the documentation: https://pandas.pydata.org/pandas-docs/stable/user_guide/indexing.html#returning-a-view-versus-a-copy\n",
      "  df['Error_%i'%t] = np.abs(df['P_C_%i'%t]-df['close'])\n",
      "<ipython-input-5-5bcc884282c3>:12: SettingWithCopyWarning: \n",
      "A value is trying to be set on a copy of a slice from a DataFrame.\n",
      "Try using .loc[row_indexer,col_indexer] = value instead\n",
      "\n",
      "See the caveats in the documentation: https://pandas.pydata.org/pandas-docs/stable/user_guide/indexing.html#returning-a-view-versus-a-copy\n",
      "  df['P_C_%i'%t] = 0.\n",
      "C:\\Users\\tbrid\\anaconda3\\lib\\site-packages\\pandas\\core\\indexing.py:1743: SettingWithCopyWarning: \n",
      "A value is trying to be set on a copy of a slice from a DataFrame.\n",
      "Try using .loc[row_indexer,col_indexer] = value instead\n",
      "\n",
      "See the caveats in the documentation: https://pandas.pydata.org/pandas-docs/stable/user_guide/indexing.html#returning-a-view-versus-a-copy\n",
      "  isetter(ilocs[0], value)\n",
      "<ipython-input-5-5bcc884282c3>:14: SettingWithCopyWarning: \n",
      "A value is trying to be set on a copy of a slice from a DataFrame.\n",
      "Try using .loc[row_indexer,col_indexer] = value instead\n",
      "\n",
      "See the caveats in the documentation: https://pandas.pydata.org/pandas-docs/stable/user_guide/indexing.html#returning-a-view-versus-a-copy\n",
      "  df['Error_%i'%t] = np.abs(df['P_C_%i'%t]-df['close'])\n",
      "<ipython-input-5-5bcc884282c3>:12: SettingWithCopyWarning: \n",
      "A value is trying to be set on a copy of a slice from a DataFrame.\n",
      "Try using .loc[row_indexer,col_indexer] = value instead\n",
      "\n",
      "See the caveats in the documentation: https://pandas.pydata.org/pandas-docs/stable/user_guide/indexing.html#returning-a-view-versus-a-copy\n",
      "  df['P_C_%i'%t] = 0.\n",
      "C:\\Users\\tbrid\\anaconda3\\lib\\site-packages\\pandas\\core\\indexing.py:1743: SettingWithCopyWarning: \n",
      "A value is trying to be set on a copy of a slice from a DataFrame.\n",
      "Try using .loc[row_indexer,col_indexer] = value instead\n",
      "\n",
      "See the caveats in the documentation: https://pandas.pydata.org/pandas-docs/stable/user_guide/indexing.html#returning-a-view-versus-a-copy\n",
      "  isetter(ilocs[0], value)\n",
      "<ipython-input-5-5bcc884282c3>:14: SettingWithCopyWarning: \n",
      "A value is trying to be set on a copy of a slice from a DataFrame.\n",
      "Try using .loc[row_indexer,col_indexer] = value instead\n",
      "\n",
      "See the caveats in the documentation: https://pandas.pydata.org/pandas-docs/stable/user_guide/indexing.html#returning-a-view-versus-a-copy\n",
      "  df['Error_%i'%t] = np.abs(df['P_C_%i'%t]-df['close'])\n"
     ]
    }
   ],
   "source": [
    "avg_err={}\n",
    "avg_train_err = {}\n",
    "for t in np.arange(50,97,3):\n",
    "    get_ipython().magic('reset_selective -f reg1')\n",
    "    split = int(t*len(X)/100)\n",
    "    reg.fit(X[:split],y[:split])\n",
    "    best_alpha = reg.best_params_['lasso__alpha']\n",
    "    best_iter = reg.best_params_['lasso__max_iter']\n",
    "    reg1 = Lasso(alpha=best_alpha,max_iter=best_iter)\n",
    "    X = imp.fit_transform(X,y)\n",
    "    reg1.fit(X[:split],y[:split])\n",
    "    df['P_C_%i'%t] = 0.\n",
    "    df.iloc[:,df.columns.get_loc('P_C_%i'%t)] = reg1.predict(X[:])\n",
    "    df['Error_%i'%t] = np.abs(df['P_C_%i'%t]-df['close'])\n",
    "    \n",
    "    e = np.mean(df['Error_%i'%t][split:])\n",
    "    train_e = np.mean(df['Error_%i'%t][:split])\n",
    "    avg_err[t] = e\n",
    "    avg_train_err[t] = train_e"
   ]
  },
  {
   "cell_type": "markdown",
   "metadata": {},
   "source": [
    "## As you might have noticed, I created a new error column to save the absolute error values. Then I took the mean of the absolute error values, which I saved in a dictionary.\n",
    "\n",
    "## Now it's time to plot and see what we got."
   ]
  },
  {
   "cell_type": "code",
   "execution_count": 25,
   "metadata": {},
   "outputs": [
    {
     "name": "stdout",
     "output_type": "stream",
     "text": [
      "\n",
      "Average Range of the data: 38.71621621621622\n"
     ]
    },
    {
     "data": {
      "text/html": [
       "<div>\n",
       "<style scoped>\n",
       "    .dataframe tbody tr th:only-of-type {\n",
       "        vertical-align: middle;\n",
       "    }\n",
       "\n",
       "    .dataframe tbody tr th {\n",
       "        vertical-align: top;\n",
       "    }\n",
       "\n",
       "    .dataframe thead th {\n",
       "        text-align: right;\n",
       "    }\n",
       "</style>\n",
       "<table border=\"1\" class=\"dataframe\">\n",
       "  <thead>\n",
       "    <tr style=\"text-align: right;\">\n",
       "      <th></th>\n",
       "      <th>Average_Range</th>\n",
       "    </tr>\n",
       "  </thead>\n",
       "  <tbody>\n",
       "    <tr>\n",
       "      <th>0</th>\n",
       "      <td>38.716216</td>\n",
       "    </tr>\n",
       "  </tbody>\n",
       "</table>\n",
       "</div>"
      ],
      "text/plain": [
       "   Average_Range\n",
       "0      38.716216"
      ]
     },
     "execution_count": 25,
     "metadata": {},
     "output_type": "execute_result"
    },
    {
     "data": {
      "image/png": "[encoded data removed]",
      "text/plain": [
       "<Figure size 432x288 with 1 Axes>"
      ]
     },
     "metadata": {},
     "output_type": "display_data"
    }
   ],
   "source": [
    "fig = plt.figure(facecolor=(1, 1, 1))\n",
    "Range =df['high'][split:]-df['low'][split:]\n",
    "plt.scatter(list(avg_train_err.keys()),list(avg_train_err.values()),label='train_error')\n",
    "plt.legend(loc='best')\n",
    "avgRange = np.average(Range)\n",
    "plt.title(f'Avg Range = %1.2f'%avgRange)\n",
    "print ('\\nAverage Range of the data:',np.average(Range))\n",
    "plt.savefig('../web/assets/lasso-error.png')\n",
    "avgR"
   ]
  },
  {
   "cell_type": "markdown",
   "metadata": {},
   "source": [
    "### I created a new Range value to hold the average daily trading range of the data. It is a metric that I would like to compare with when I am making a prediction. The logic behind this comparison is that if my prediction error is more than the day’s range then it is likely that it will not be useful.\n",
    "\n",
    "### I might as well use the previous day’s High or Low as the prediction, which will turn out to be more accurate. Please note I have used the split value outside the loop. This implies that the average range of the day that you see here is relevant to the last iteration.\n",
    "## What does this scatter plot tell you? Let me ask you a few questions.\n",
    "\n",
    "* Is the equation over-fitting?\n",
    "* The performance of the data improved remarkably as the train data set size increased. Does this mean if we give more data the error will reduce further?\n",
    "* Is there an inherent trend in the market, allowing us to make better predictions as the data set size increases?\n",
    "* Last but the best question How will we use these predictions to create a trading strategy?\n",
    "### Q: Is the equation over-fitting?\n",
    "### A: This was the first question I had asked. To know if your data is overfitting or not, the best way to test it would be to check the prediction error that the algorithm makes in the train and test data.\n",
    "### To do this, we will have to add a small piece of code to the already written code."
   ]
  },
  {
   "cell_type": "code",
   "execution_count": 26,
   "metadata": {},
   "outputs": [
    {
     "name": "stdout",
     "output_type": "stream",
     "text": [
      "\n",
      "Average Range of the Day: 38.71621621621622\n"
     ]
    },
    {
     "data": {
      "image/png": "[encoded data removed]",
      "text/plain": [
       "<Figure size 432x288 with 1 Axes>"
      ]
     },
     "metadata": {},
     "output_type": "display_data"
    }
   ],
   "source": [
    "fig = plt.figure(facecolor=(1, 1, 1))\n",
    "\n",
    "Range =df['high'][split:]-df['low'][split:]\n",
    "# ------------------------------------------------------------------------ added code below.\n",
    "plt.scatter(list(avg_err.keys()),list(avg_err.values()), label='test_error')\n",
    "# ---------------------------------------------------------------------------\n",
    "plt.scatter(list(avg_train_err.keys()),list(avg_train_err.values()),label='train_error')\n",
    "plt.legend(loc='best')\n",
    "avR = np.average(Range)\n",
    "plt.title(f'Avg Range = %1.2f'%avR)\n",
    "print ('\\nAverage Range of the Day:',np.average(Range))\n",
    "plt.savefig('../web/assets/train-test-error.png')\n",
    "\n"
   ]
  },
  {
   "cell_type": "markdown",
   "metadata": {},
   "source": [
    "## If our algorithm is doing better in the test data compared to the train data, is this observation in itself a red flag.?There are a few reasons why our test data error could be better than the train data error:\n",
    "\n",
    "## If the train data had greater volatility (Daily range) compared to the test set, then the prediction would also exhibit greater volatility.\n",
    "### If there was an inherent trend in the market that helped the algo make better predictions.\n",
    "### Now, let us check which of these cases is true. If the range of the test data was less than the train data, then the error should have decreased after passing more than 80% of the data as a train set, but it increases."
   ]
  },
  {
   "cell_type": "markdown",
   "metadata": {},
   "source": [
    "## Q: Can the machine learning algorithm detect the inherent trend or market phase (bull/bear/sideways/breakout/panic)?\n",
    "\n",
    "## Q: Can the database be trimmed in a way to train different algos for different situations\n",
    "\n",
    "## A: The answer to both the questions is YES!\n",
    "\n",
    "### We can divide the market into different regimes and then use these signals to trim the data and train different algorithms for these datasets. To achieve this, I choose to use an unsupervised machine learning algorithm.\n",
    "\n",
    "### From here on, this Python machine learning tutorial will be dedicated to creating an algorithm that can detect the inherent trend in the market without explicitly training for it."
   ]
  },
  {
   "cell_type": "code",
   "execution_count": 8,
   "metadata": {},
   "outputs": [],
   "source": [
    "from pandas_datareader import data as web\n",
    "from sklearn import mixture as mix\n",
    "import seaborn as sns \n",
    "import matplotlib.pyplot as plt"
   ]
  },
  {
   "cell_type": "code",
   "execution_count": 9,
   "metadata": {},
   "outputs": [
    {
     "name": "stderr",
     "output_type": "stream",
     "text": [
      "<ipython-input-9-352752e9c380>:2: SettingWithCopyWarning: \n",
      "A value is trying to be set on a copy of a slice from a DataFrame.\n",
      "Try using .loc[row_indexer,col_indexer] = value instead\n",
      "\n",
      "See the caveats in the documentation: https://pandas.pydata.org/pandas-docs/stable/user_guide/indexing.html#returning-a-view-versus-a-copy\n",
      "  df['open']=df['open'].shift(1)\n",
      "<ipython-input-9-352752e9c380>:3: SettingWithCopyWarning: \n",
      "A value is trying to be set on a copy of a slice from a DataFrame.\n",
      "Try using .loc[row_indexer,col_indexer] = value instead\n",
      "\n",
      "See the caveats in the documentation: https://pandas.pydata.org/pandas-docs/stable/user_guide/indexing.html#returning-a-view-versus-a-copy\n",
      "  df['high']=df['high'].shift(1)\n",
      "<ipython-input-9-352752e9c380>:4: SettingWithCopyWarning: \n",
      "A value is trying to be set on a copy of a slice from a DataFrame.\n",
      "Try using .loc[row_indexer,col_indexer] = value instead\n",
      "\n",
      "See the caveats in the documentation: https://pandas.pydata.org/pandas-docs/stable/user_guide/indexing.html#returning-a-view-versus-a-copy\n",
      "  df['low']=df['low'].shift(1)\n",
      "<ipython-input-9-352752e9c380>:5: SettingWithCopyWarning: \n",
      "A value is trying to be set on a copy of a slice from a DataFrame.\n",
      "Try using .loc[row_indexer,col_indexer] = value instead\n",
      "\n",
      "See the caveats in the documentation: https://pandas.pydata.org/pandas-docs/stable/user_guide/indexing.html#returning-a-view-versus-a-copy\n",
      "  df['close']=df['close'].shift(1)\n"
     ]
    }
   ],
   "source": [
    "df=df[['open','high','low','close']]\n",
    "df['open']=df['open'].shift(1)\n",
    "df['high']=df['high'].shift(1)\n",
    "df['low']=df['low'].shift(1)\n",
    "df['close']=df['close'].shift(1)\n",
    "df=df[['open','high','low','close']]\n",
    "df=df.dropna()"
   ]
  },
  {
   "cell_type": "markdown",
   "metadata": {},
   "source": [
    "# Instantiate an unsupervised machine learning algorithm using the ‘Gaussian mixture’ model from sklearn."
   ]
  },
  {
   "cell_type": "code",
   "execution_count": 10,
   "metadata": {},
   "outputs": [],
   "source": [
    "unsup = mix.GaussianMixture(n_components=3, \n",
    "                            covariance_type=\"spherical\", \n",
    "                            n_init=100, \n",
    "                            random_state=42)"
   ]
  },
  {
   "cell_type": "code",
   "execution_count": 11,
   "metadata": {},
   "outputs": [],
   "source": [
    "unsup.fit(np.reshape(df,(-1,df.shape[1])))\n",
    "regime = unsup.predict(np.reshape(df,(-1,df.shape[1])))"
   ]
  },
  {
   "cell_type": "markdown",
   "metadata": {},
   "source": [
    "# Now let us calculate the returns of the day."
   ]
  },
  {
   "cell_type": "code",
   "execution_count": 12,
   "metadata": {},
   "outputs": [],
   "source": [
    "df['Return']= np.log(df['close']/df['close'].shift(1))"
   ]
  },
  {
   "cell_type": "markdown",
   "metadata": {},
   "source": [
    "# Then, create a dataframe called Regimes which will have the OHLC and Return values along with the corresponding regime classification."
   ]
  },
  {
   "cell_type": "code",
   "execution_count": 13,
   "metadata": {},
   "outputs": [],
   "source": [
    "Regimes=pd.DataFrame(regime,columns=['Regime'],index=df.index)\\\n",
    "                     .join(df, how='inner')\\\n",
    "                          .assign(market_cu_return=df.Return.cumsum())\\\n",
    "                                 .reset_index(drop=False)\\\n",
    "                                             .rename(columns={'index':'Date'})"
   ]
  },
  {
   "cell_type": "markdown",
   "metadata": {},
   "source": [
    "## After this, let us create a list called ‘order’ that has the values corresponding to the regime classification, and then plot these values to see how well the algo has classified."
   ]
  },
  {
   "cell_type": "markdown",
   "metadata": {},
   "source": [
    "# The final regime differentiation would look like this:\n",
    "\n"
   ]
  },
  {
   "cell_type": "code",
   "execution_count": 28,
   "metadata": {},
   "outputs": [
    {
     "data": {
      "image/png": "[encoded data removed]",
      "text/plain": [
       "<Figure size 621.5x288 with 1 Axes>"
      ]
     },
     "metadata": {
      "needs_background": "dark"
     },
     "output_type": "display_data"
    }
   ],
   "source": [
    "order=[0,1,2]\n",
    "fig = sns.FacetGrid(data=Regimes,hue='Regime',hue_order=order,aspect=2,height= 4)\n",
    "fig.map(plt.scatter,'Date','market_cu_return', s=4).add_legend(labelcolor='white')\n",
    "plt.tick_params(colors='white', grid_color='black')\n",
    "ax.xaxis.label.set_color('white')\n",
    "ax.yaxis.label.set_color('white')\n",
    "plt.grid()\n",
    "plt.savefig('../web/assets/lasso.png', bbox_inches='tight')\n",
    "plt.show()\n"
   ]
  },
  {
   "cell_type": "markdown",
   "metadata": {},
   "source": [
    "### This graph looks pretty good to me. Without actually looking at the factors based on which the classification was done, we can conclude a few things just by looking at the chart.\n",
    "\n",
    "1. The blue zone is the low volatility or the sideways zone\n",
    "2. The orange zone is high volatility zone or panic zone.\n",
    "3. The purple zone is a breakout up/down zone.\n",
    "4. The red zone: high Mean, high covariance zone.\n",
    "5. The purple zone mid mean low covariance i really have no clue besided looks toppy and rangey\n",
    "* Use the code below to print the relevant data for each regime"
   ]
  },
  {
   "cell_type": "code",
   "execution_count": 15,
   "metadata": {},
   "outputs": [
    {
     "name": "stdout",
     "output_type": "stream",
     "text": [
      "Mean for regime 0:  60604.062699679846\n",
      "Co-Variancefor regime 0:  37547.68182914121\n",
      "Mean for regime 1:  61533.455827913305\n",
      "Co-Variancefor regime 1:  38737.242853807045\n",
      "Mean for regime 2:  62252.008579589\n",
      "Co-Variancefor regime 2:  9306.288400100304\n"
     ]
    }
   ],
   "source": [
    "for i in order:\n",
    "    print('Mean for regime %i: '%i,unsup.means_[i][0])\n",
    "    print('Co-Variancefor regime %i: '%i,(unsup.covariances_[i]))\n",
    "    \n",
    "# The output would look like this:"
   ]
  },
  {
   "cell_type": "markdown",
   "metadata": {},
   "source": [
    "### The data can be inferred as follows:\n",
    "0. Regime 0: high mean and low covariance.\n",
    "1. Regime 1: low mean and high covariance.  \n",
    "2. Regime 2: mid range mean and low covariance.\n",
    "3. Regime 3: high mean and low covariance.\n",
    "4. Regime 4: mid mean low covariance."
   ]
  }
 ],
 "metadata": {
  "kernelspec": {
   "display_name": "Python 3",
   "language": "python",
   "name": "python3"
  },
  "language_info": {
   "codemirror_mode": {
    "name": "ipython",
    "version": 3
   },
   "file_extension": ".py",
   "mimetype": "text/x-python",
   "name": "python",
   "nbconvert_exporter": "python",
   "pygments_lexer": "ipython3",
   "version": "3.8.5"
  }
 },
 "nbformat": 4,
 "nbformat_minor": 4
}
