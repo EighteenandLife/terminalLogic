{
 "cells": [
  {
   "cell_type": "code",
   "execution_count": 1,
   "metadata": {},
   "outputs": [],
   "source": [
    "%matplotlib inline\n",
    "import matplotlib.pyplot as plt\n",
    "import terminalLogic\n",
    "from terminalLogic import Algo\n",
    "import client\n",
    "from client import engine\n",
    "import pandas as pd\n",
    "import numpy as np\n",
    "import datetime\n",
    "import time\n",
    "import seaborn as sb\n",
    "plt.rcParams['figure.figsize'] = [16.0, 6.0]\n",
    "\n"
   ]
  },
  {
   "cell_type": "code",
   "execution_count": 2,
   "metadata": {},
   "outputs": [
    {
     "data": {
      "text/html": [
       "<div>\n",
       "<style scoped>\n",
       "    .dataframe tbody tr th:only-of-type {\n",
       "        vertical-align: middle;\n",
       "    }\n",
       "\n",
       "    .dataframe tbody tr th {\n",
       "        vertical-align: top;\n",
       "    }\n",
       "\n",
       "    .dataframe thead th {\n",
       "        text-align: right;\n",
       "    }\n",
       "</style>\n",
       "<table border=\"1\" class=\"dataframe\">\n",
       "  <thead>\n",
       "    <tr style=\"text-align: right;\">\n",
       "      <th></th>\n",
       "      <th>time</th>\n",
       "      <th>open</th>\n",
       "      <th>high</th>\n",
       "      <th>low</th>\n",
       "      <th>close</th>\n",
       "      <th>volume</th>\n",
       "    </tr>\n",
       "  </thead>\n",
       "  <tbody>\n",
       "    <tr>\n",
       "      <th>0</th>\n",
       "      <td>2021-11-02 15:09:00</td>\n",
       "      <td>63514.0</td>\n",
       "      <td>63538.0</td>\n",
       "      <td>63505.0</td>\n",
       "      <td>63521.0</td>\n",
       "      <td>5.262254e+05</td>\n",
       "    </tr>\n",
       "    <tr>\n",
       "      <th>1</th>\n",
       "      <td>2021-11-02 15:10:00</td>\n",
       "      <td>63521.0</td>\n",
       "      <td>63533.0</td>\n",
       "      <td>63480.0</td>\n",
       "      <td>63488.0</td>\n",
       "      <td>2.464984e+06</td>\n",
       "    </tr>\n",
       "    <tr>\n",
       "      <th>2</th>\n",
       "      <td>2021-11-02 15:11:00</td>\n",
       "      <td>63488.0</td>\n",
       "      <td>63505.0</td>\n",
       "      <td>63465.0</td>\n",
       "      <td>63491.0</td>\n",
       "      <td>8.007969e+05</td>\n",
       "    </tr>\n",
       "    <tr>\n",
       "      <th>3</th>\n",
       "      <td>2021-11-02 15:12:00</td>\n",
       "      <td>63491.0</td>\n",
       "      <td>63516.0</td>\n",
       "      <td>63470.0</td>\n",
       "      <td>63516.0</td>\n",
       "      <td>1.391909e+06</td>\n",
       "    </tr>\n",
       "    <tr>\n",
       "      <th>4</th>\n",
       "      <td>2021-11-02 15:13:00</td>\n",
       "      <td>63516.0</td>\n",
       "      <td>63516.0</td>\n",
       "      <td>63483.0</td>\n",
       "      <td>63494.0</td>\n",
       "      <td>4.392092e+05</td>\n",
       "    </tr>\n",
       "    <tr>\n",
       "      <th>...</th>\n",
       "      <td>...</td>\n",
       "      <td>...</td>\n",
       "      <td>...</td>\n",
       "      <td>...</td>\n",
       "      <td>...</td>\n",
       "      <td>...</td>\n",
       "    </tr>\n",
       "    <tr>\n",
       "      <th>1495</th>\n",
       "      <td>2021-11-03 16:04:00</td>\n",
       "      <td>62261.0</td>\n",
       "      <td>62346.0</td>\n",
       "      <td>62245.0</td>\n",
       "      <td>62345.0</td>\n",
       "      <td>8.932825e+05</td>\n",
       "    </tr>\n",
       "    <tr>\n",
       "      <th>1496</th>\n",
       "      <td>2021-11-03 16:05:00</td>\n",
       "      <td>62345.0</td>\n",
       "      <td>62381.0</td>\n",
       "      <td>62301.0</td>\n",
       "      <td>62342.0</td>\n",
       "      <td>1.473654e+06</td>\n",
       "    </tr>\n",
       "    <tr>\n",
       "      <th>1497</th>\n",
       "      <td>2021-11-03 16:06:00</td>\n",
       "      <td>62342.0</td>\n",
       "      <td>62342.0</td>\n",
       "      <td>62298.0</td>\n",
       "      <td>62298.0</td>\n",
       "      <td>8.707808e+05</td>\n",
       "    </tr>\n",
       "    <tr>\n",
       "      <th>1498</th>\n",
       "      <td>2021-11-03 16:07:00</td>\n",
       "      <td>62298.0</td>\n",
       "      <td>62340.0</td>\n",
       "      <td>62298.0</td>\n",
       "      <td>62338.0</td>\n",
       "      <td>7.946052e+05</td>\n",
       "    </tr>\n",
       "    <tr>\n",
       "      <th>1499</th>\n",
       "      <td>2021-11-03 16:08:00</td>\n",
       "      <td>62338.0</td>\n",
       "      <td>62363.0</td>\n",
       "      <td>62338.0</td>\n",
       "      <td>62359.0</td>\n",
       "      <td>2.410808e+05</td>\n",
       "    </tr>\n",
       "  </tbody>\n",
       "</table>\n",
       "<p>1500 rows × 6 columns</p>\n",
       "</div>"
      ],
      "text/plain": [
       "                    time     open     high      low    close        volume\n",
       "0    2021-11-02 15:09:00  63514.0  63538.0  63505.0  63521.0  5.262254e+05\n",
       "1    2021-11-02 15:10:00  63521.0  63533.0  63480.0  63488.0  2.464984e+06\n",
       "2    2021-11-02 15:11:00  63488.0  63505.0  63465.0  63491.0  8.007969e+05\n",
       "3    2021-11-02 15:12:00  63491.0  63516.0  63470.0  63516.0  1.391909e+06\n",
       "4    2021-11-02 15:13:00  63516.0  63516.0  63483.0  63494.0  4.392092e+05\n",
       "...                  ...      ...      ...      ...      ...           ...\n",
       "1495 2021-11-03 16:04:00  62261.0  62346.0  62245.0  62345.0  8.932825e+05\n",
       "1496 2021-11-03 16:05:00  62345.0  62381.0  62301.0  62342.0  1.473654e+06\n",
       "1497 2021-11-03 16:06:00  62342.0  62342.0  62298.0  62298.0  8.707808e+05\n",
       "1498 2021-11-03 16:07:00  62298.0  62340.0  62298.0  62338.0  7.946052e+05\n",
       "1499 2021-11-03 16:08:00  62338.0  62363.0  62338.0  62359.0  2.410808e+05\n",
       "\n",
       "[1500 rows x 6 columns]"
      ]
     },
     "execution_count": 2,
     "metadata": {},
     "output_type": "execute_result"
    }
   ],
   "source": [
    "url = engine()\n",
    "data = url.getData()\n",
    "df = data\n",
    "df"
   ]
  },
  {
   "cell_type": "code",
   "execution_count": 4,
   "metadata": {
    "scrolled": false
   },
   "outputs": [
    {
     "ename": "AttributeError",
     "evalue": "Can only use .dt accessor with datetimelike values",
     "output_type": "error",
     "traceback": [
      "\u001b[1;31m---------------------------------------------------------------------------\u001b[0m",
      "\u001b[1;31mAttributeError\u001b[0m                            Traceback (most recent call last)",
      "\u001b[1;32m<ipython-input-4-cac3d3ca9660>\u001b[0m in \u001b[0;36m<module>\u001b[1;34m\u001b[0m\n\u001b[0;32m      2\u001b[0m \u001b[0mdf1\u001b[0m\u001b[1;33m.\u001b[0m\u001b[0mdropna\u001b[0m\u001b[1;33m(\u001b[0m\u001b[0minplace\u001b[0m\u001b[1;33m=\u001b[0m\u001b[1;32mTrue\u001b[0m\u001b[1;33m)\u001b[0m\u001b[1;33m\u001b[0m\u001b[1;33m\u001b[0m\u001b[0m\n\u001b[0;32m      3\u001b[0m \u001b[0mdf2\u001b[0m \u001b[1;33m=\u001b[0m \u001b[0mdf1\u001b[0m\u001b[1;33m\u001b[0m\u001b[1;33m\u001b[0m\u001b[0m\n\u001b[1;32m----> 4\u001b[1;33m \u001b[0mdf2\u001b[0m\u001b[1;33m[\u001b[0m\u001b[1;34m'time'\u001b[0m\u001b[1;33m]\u001b[0m \u001b[1;33m=\u001b[0m \u001b[0mdf2\u001b[0m\u001b[1;33m[\u001b[0m\u001b[1;34m'time'\u001b[0m\u001b[1;33m]\u001b[0m\u001b[1;33m.\u001b[0m\u001b[0mdt\u001b[0m\u001b[1;33m.\u001b[0m\u001b[0mdate\u001b[0m\u001b[1;33m\u001b[0m\u001b[1;33m\u001b[0m\u001b[0m\n\u001b[0m\u001b[0;32m      5\u001b[0m \u001b[0mtable\u001b[0m \u001b[1;33m=\u001b[0m \u001b[0mdf2\u001b[0m\u001b[1;33m.\u001b[0m\u001b[0mtail\u001b[0m\u001b[1;33m(\u001b[0m\u001b[1;36m20\u001b[0m\u001b[1;33m)\u001b[0m\u001b[1;33m\u001b[0m\u001b[1;33m\u001b[0m\u001b[0m\n\u001b[0;32m      6\u001b[0m \u001b[0mtable\u001b[0m\u001b[1;33m.\u001b[0m\u001b[0mto_json\u001b[0m\u001b[1;33m(\u001b[0m\u001b[1;34m'./assets/table.json'\u001b[0m\u001b[1;33m,\u001b[0m \u001b[0morient\u001b[0m\u001b[1;33m=\u001b[0m\u001b[1;34m'records'\u001b[0m\u001b[1;33m)\u001b[0m\u001b[1;33m\u001b[0m\u001b[1;33m\u001b[0m\u001b[0m\n",
      "\u001b[1;32m~\\anaconda3\\lib\\site-packages\\pandas\\core\\generic.py\u001b[0m in \u001b[0;36m__getattr__\u001b[1;34m(self, name)\u001b[0m\n\u001b[0;32m   5135\u001b[0m             \u001b[1;32mor\u001b[0m \u001b[0mname\u001b[0m \u001b[1;32min\u001b[0m \u001b[0mself\u001b[0m\u001b[1;33m.\u001b[0m\u001b[0m_accessors\u001b[0m\u001b[1;33m\u001b[0m\u001b[1;33m\u001b[0m\u001b[0m\n\u001b[0;32m   5136\u001b[0m         ):\n\u001b[1;32m-> 5137\u001b[1;33m             \u001b[1;32mreturn\u001b[0m \u001b[0mobject\u001b[0m\u001b[1;33m.\u001b[0m\u001b[0m__getattribute__\u001b[0m\u001b[1;33m(\u001b[0m\u001b[0mself\u001b[0m\u001b[1;33m,\u001b[0m \u001b[0mname\u001b[0m\u001b[1;33m)\u001b[0m\u001b[1;33m\u001b[0m\u001b[1;33m\u001b[0m\u001b[0m\n\u001b[0m\u001b[0;32m   5138\u001b[0m         \u001b[1;32melse\u001b[0m\u001b[1;33m:\u001b[0m\u001b[1;33m\u001b[0m\u001b[1;33m\u001b[0m\u001b[0m\n\u001b[0;32m   5139\u001b[0m             \u001b[1;32mif\u001b[0m \u001b[0mself\u001b[0m\u001b[1;33m.\u001b[0m\u001b[0m_info_axis\u001b[0m\u001b[1;33m.\u001b[0m\u001b[0m_can_hold_identifiers_and_holds_name\u001b[0m\u001b[1;33m(\u001b[0m\u001b[0mname\u001b[0m\u001b[1;33m)\u001b[0m\u001b[1;33m:\u001b[0m\u001b[1;33m\u001b[0m\u001b[1;33m\u001b[0m\u001b[0m\n",
      "\u001b[1;32m~\\anaconda3\\lib\\site-packages\\pandas\\core\\accessor.py\u001b[0m in \u001b[0;36m__get__\u001b[1;34m(self, obj, cls)\u001b[0m\n\u001b[0;32m    185\u001b[0m             \u001b[1;31m# we're accessing the attribute of the class, i.e., Dataset.geo\u001b[0m\u001b[1;33m\u001b[0m\u001b[1;33m\u001b[0m\u001b[1;33m\u001b[0m\u001b[0m\n\u001b[0;32m    186\u001b[0m             \u001b[1;32mreturn\u001b[0m \u001b[0mself\u001b[0m\u001b[1;33m.\u001b[0m\u001b[0m_accessor\u001b[0m\u001b[1;33m\u001b[0m\u001b[1;33m\u001b[0m\u001b[0m\n\u001b[1;32m--> 187\u001b[1;33m         \u001b[0maccessor_obj\u001b[0m \u001b[1;33m=\u001b[0m \u001b[0mself\u001b[0m\u001b[1;33m.\u001b[0m\u001b[0m_accessor\u001b[0m\u001b[1;33m(\u001b[0m\u001b[0mobj\u001b[0m\u001b[1;33m)\u001b[0m\u001b[1;33m\u001b[0m\u001b[1;33m\u001b[0m\u001b[0m\n\u001b[0m\u001b[0;32m    188\u001b[0m         \u001b[1;31m# Replace the property with the accessor object. Inspired by:\u001b[0m\u001b[1;33m\u001b[0m\u001b[1;33m\u001b[0m\u001b[1;33m\u001b[0m\u001b[0m\n\u001b[0;32m    189\u001b[0m         \u001b[1;31m# https://www.pydanny.com/cached-property.html\u001b[0m\u001b[1;33m\u001b[0m\u001b[1;33m\u001b[0m\u001b[1;33m\u001b[0m\u001b[0m\n",
      "\u001b[1;32m~\\anaconda3\\lib\\site-packages\\pandas\\core\\indexes\\accessors.py\u001b[0m in \u001b[0;36m__new__\u001b[1;34m(cls, data)\u001b[0m\n\u001b[0;32m    478\u001b[0m             \u001b[1;32mreturn\u001b[0m \u001b[0mPeriodProperties\u001b[0m\u001b[1;33m(\u001b[0m\u001b[0mdata\u001b[0m\u001b[1;33m,\u001b[0m \u001b[0morig\u001b[0m\u001b[1;33m)\u001b[0m\u001b[1;33m\u001b[0m\u001b[1;33m\u001b[0m\u001b[0m\n\u001b[0;32m    479\u001b[0m \u001b[1;33m\u001b[0m\u001b[0m\n\u001b[1;32m--> 480\u001b[1;33m         \u001b[1;32mraise\u001b[0m \u001b[0mAttributeError\u001b[0m\u001b[1;33m(\u001b[0m\u001b[1;34m\"Can only use .dt accessor with datetimelike values\"\u001b[0m\u001b[1;33m)\u001b[0m\u001b[1;33m\u001b[0m\u001b[1;33m\u001b[0m\u001b[0m\n\u001b[0m",
      "\u001b[1;31mAttributeError\u001b[0m: Can only use .dt accessor with datetimelike values"
     ]
    }
   ],
   "source": [
    "df1 = Algo.fullstate(df, df)\n",
    "df1.dropna(inplace=True)\n",
    "df2 = df1\n",
    "df2['time'] = df2['time'].dt.date\n",
    "table = df2.tail(20)\n",
    "table.to_json('./assets/table.json', orient='records')\n"
   ]
  },
  {
   "cell_type": "markdown",
   "metadata": {},
   "source": [
    "## Trend positions"
   ]
  },
  {
   "cell_type": "code",
   "execution_count": null,
   "metadata": {},
   "outputs": [],
   "source": [
    "fig = plt.figure(facecolor=(1, 1, 1))\n",
    "y = df2.iloc[-500:]['time']\n",
    "plt.xticks(fontsize=22)\n",
    "plt.yticks(fontsize=22)\n",
    "plt.plot(df2.iloc[-500:]['close'], label = 'BTC')\n",
    "plt.plot(df2.iloc[-500:]['9-min'], label = '9-min')\n",
    "plt.plot(df2.iloc[-500:]['21-min'], label = '21-min')\n",
    "plt.plot(df2[-500:].loc[df2.entry == 2].index, df2[-500:]['9-min'][df2.entry == 2], \"^\",\n",
    "        color = \"g\", markersize = 12, label= \"Long\")\n",
    "plt.plot(df2[-500:].loc[df2.entry == -2].index, df2[-500:]['21-min'][df2.entry == -2], \"v\",\n",
    "        color = \"r\", markersize = 12, label=\"Short\")\n",
    "plt.legend(loc=2);\n",
    "plt.savefig('./assets/trendPositions.png')"
   ]
  },
  {
   "cell_type": "markdown",
   "metadata": {},
   "source": [
    "# Trend Algo Performance"
   ]
  },
  {
   "cell_type": "code",
   "execution_count": null,
   "metadata": {},
   "outputs": [],
   "source": [
    "fig = plt.figure(facecolor=(1, 1, 1))\n",
    "y=df2.iloc[-500:]['time']\n",
    "df2['trend_returns'] = df2.signal * df2.market_returns\n",
    "plt.xticks(fontsize=22)\n",
    "plt.yticks(fontsize=22)\n",
    "plt.plot(np.exp(df2.iloc[-500:]['market_returns']).cumprod(),label = \"Buy/Hold\")\n",
    "plt.plot(np.exp(df2.iloc[-500:]['trend_returns']).cumprod(),label = \"Strat\")\n",
    "plt.legend()\n",
    "plt.savefig('./assets/trendRets.png')"
   ]
  },
  {
   "cell_type": "code",
   "execution_count": null,
   "metadata": {},
   "outputs": [],
   "source": [
    "fig = plt.figure(facecolor=(1, 1, 1))\n",
    "y=df2.iloc[-500:]['time']\n",
    "plt.xticks(fontsize=22)\n",
    "plt.yticks(fontsize=22)\n",
    "plt.plot(df2.iloc[-500:]['close'], label = 'BTC')\n",
    "plt.plot(df2.iloc[-500:]['9-min'], label = '9-min')\n",
    "plt.legend(loc=2);\n",
    "plt.savefig('./assets/btc1m9ma.png')"
   ]
  },
  {
   "cell_type": "code",
   "execution_count": null,
   "metadata": {},
   "outputs": [],
   "source": [
    "sb.set()\n",
    "y = df2.iloc[-500:]['time']\n",
    "percentiles = [5, 10, 50, 90, 95]\n",
    "p = np.percentile(df2['ratio'].dropna(), percentiles)\n",
    "plt.xticks(fontsize=22)\n",
    "plt.yticks(fontsize=22)\n",
    "plt.plot(df2.iloc[-500:]['ratio'].dropna())\n",
    "plt.axhline(p[0], c=(.5, .5, .5), ls='--')\n",
    "plt.axhline(p[2], c=(.5, .5, .5), ls='--')\n",
    "plt.axhline(p[-1], c=(.5, .5, .5), ls='--')\n",
    "plt.savefig('./assets/rangePercentiles.png')"
   ]
  },
  {
   "cell_type": "markdown",
   "metadata": {},
   "source": [
    "# Range positions"
   ]
  },
  {
   "cell_type": "code",
   "execution_count": null,
   "metadata": {},
   "outputs": [],
   "source": [
    "plt.rcParams['figure.figsize'] = [16.0, 6.0]\n",
    "\n",
    "fig = plt.figure(facecolor=(1, 1, 1))\n",
    "y=df2.iloc[-500:]['time']\n",
    "plt.xticks(fontsize=22)\n",
    "plt.yticks(fontsize=22)\n",
    "plt.plot(df2.iloc[-500:]['position'].dropna())\n",
    "plt.savefig('./assets/rangeStatus.png')\n"
   ]
  },
  {
   "cell_type": "code",
   "execution_count": null,
   "metadata": {},
   "outputs": [],
   "source": [
    "\"\"\" Plots returns for the range algo df thus returns 'R' \"\"\"\n",
    "y=df2.iloc[-500:]['time'].dropna()\n",
    "fig = plt.figure(facecolor=(1, 1, 1))\n",
    "plt.xticks(fontsize=22)\n",
    "plt.yticks(fontsize=22)\n",
    "plt.plot(np.exp(df2.iloc[-500:]['market_returns'].dropna()).cumprod(), label='Buy/Hold')\n",
    "plt.plot(np.exp(df2.iloc[-500:]['range_returns'].dropna()).cumprod(), label='Strategy')\n",
    "plt.legend();\n",
    "plt.savefig('.//assets/rangeRets.png')"
   ]
  },
  {
   "cell_type": "code",
   "execution_count": null,
   "metadata": {},
   "outputs": [],
   "source": [
    "fig = plt.figure(facecolor=(1, 1, 1))\n",
    "\n",
    "y=df2.iloc[-500:]['time']\n",
    "plt.xticks(fontsize=22)\n",
    "plt.yticks(fontsize=22)\n",
    "plt.plot(df2.iloc[-500:]['close'], label = 'BTC')\n",
    "plt.plot(df2.iloc[-500:]['9-min'], label = '9-min')\n",
    "plt.plot(df2[-500:].loc[df2.entryR == 2].index, df2[-500:]['9-min'][df2.entryR == 2], \"^\",\n",
    "        color = \"r\", markersize = 12, label= \"Short\")\n",
    "plt.plot(df2[-500:].loc[df2.entryR == -2].index, df2[-500:]['9-min'][df2.entryR == -2], \"v\",\n",
    "        color = \"g\", markersize = 12, label=\"Long\")\n",
    "plt.legend(loc=2);\n",
    "plt.savefig('./static/assets/dualPlot.png')\n"
   ]
  },
  {
   "cell_type": "code",
   "execution_count": null,
   "metadata": {},
   "outputs": [],
   "source": [
    "bestFit = df2[['time','close', 'market_returns','range_returns', 'trend_returns']]\n",
    "bestFit.head(30)"
   ]
  },
  {
   "cell_type": "markdown",
   "metadata": {},
   "source": [
    "* check val in each algo_return, determine greatest val, declear winner\n",
    "* if declared winner, iterate forward len(X_minutes) in winner col and append new val to list\n",
    "* check both val at winning location for greatest val, decleare winner\n",
    "* iterate forward len(X_min) in winning col and append val to list\n",
    "* repeat, i think.."
   ]
  },
  {
   "cell_type": "code",
   "execution_count": null,
   "metadata": {},
   "outputs": [],
   "source": [
    "count=[]\n",
    "selectVal = []\n",
    "greatestVal = []\n",
    "signal = ''\n",
    "period = 3\n",
    "\n",
    "for j, k in bestFit.iterrows():\n",
    "    count.append(1)    \n",
    "    if len(count) == period:\n",
    "        selectVal.append([\"time\", k['market_returns'], \"rangeRet\", k['range_returns'], \"trendRet\", k['trend_returns']])\n",
    "        if k['range_returns'] > k['trend_returns']:\n",
    "            signal = -1\n",
    "            greatestVal.append([ signal, k['range_returns']])\n",
    "#             selectVal.append([k['range_returns'], signal])\n",
    "#             np.insert(winnerVal, 1, greatestVal, axis = 1)\n",
    "        elif k['range_returns'] < k['trend_returns']:\n",
    "            signal = 1\n",
    "            greatestVal.append([signal, k['trend_returns']])\n",
    "#             selectVal.append([k['trend_returns'], signal])\n",
    "        else:\n",
    "            k['range_returns'] == k['trend_returns']\n",
    "            signal = 0\n",
    "            greatestVal.append([signal, k['trend_returns']])\n",
    "#             selectVal.append([k['trend_returns'], signal])\n",
    "        count = []\n",
    "\n",
    "record=np.concatenate((selectVal,greatestVal), axis=1)\n",
    "record\n",
    "\n",
    "        \n",
    "df3 = pd.DataFrame((record),\n",
    "                     columns=['time', 'market_returns', 'range','rangeRet', 'trend', 'trendRet', 'winningAlgo', 'winnersRets'])   \n",
    "df3.drop(['range', 'trend'], axis = 1, inplace=True)\n",
    "record\n"
   ]
  },
  {
   "cell_type": "code",
   "execution_count": null,
   "metadata": {
    "scrolled": true
   },
   "outputs": [],
   "source": [
    "df3['addTrend'] = df3['trendRet'].shift(-1)\n",
    "df3['addRange'] = df3['rangeRet'].shift(-1)\n",
    "df3['result'] = np.where(df3['trendRet'] > df3['rangeRet'], df3['addTrend'], np.nan)\n",
    "df3['result'] = np.where(df3['trendRet'] < df3['rangeRet'], df3['addRange'], df3['result'])\n",
    "df3['result'] = np.where(df3['trendRet'] == df3['rangeRet'], df3['addRange'], df3['result'])\n",
    "df3"
   ]
  },
  {
   "cell_type": "code",
   "execution_count": null,
   "metadata": {
    "scrolled": true
   },
   "outputs": [],
   "source": [
    "initial_capital = float(100000.0)\n",
    "\n",
    "# Create df positions\n",
    "positions = pd.DataFrame(index=df2.time.index).fillna(0.0)\n",
    "\n",
    "\n",
    "# Buy 2 BTC\n",
    "positions['BTC-PERP'] = 2*df['position']\n",
    "\n",
    "# Initilize portfolio w value owned\n",
    "portfolio = positions.multiply(df['close'], axis=0)\n",
    "\n",
    "# Store diff in shares owned\n",
    "pos_diff = positions.diff()\n",
    "\n",
    "# Add 'holdings' to portfolio\n",
    "portfolio['holdings'] = (positions.multiply(df['close'], axis=0)).sum(axis=1)\n",
    "\n",
    "# Add 'cash' to portfolio\n",
    "portfolio['cash'] = initial_capital - (pos_diff.multiply(df['close'], axis=0)).sum(axis=1).cumsum()\n",
    "\n",
    "# Add 'total' to portfolio\n",
    "portfolio['total'] = portfolio['cash'] + portfolio['holdings']\n",
    "\n",
    "# Add 'returns' to portfolio\n",
    "portfolio['returns'] = portfolio['total'].pct_change()\n",
    "\n",
    "portfolio['time'] = df['time']\n",
    "fig = plt.figure(facecolor=(1, 1, 1))\n",
    "x = portfolio.iloc[-200:]['time']\n",
    "y = portfolio.iloc[-200:]['total']\n",
    "plt.xticks(fontsize=22, color=\"black\")\n",
    "plt.xlabel('Time', color='black',fontsize=22)\n",
    "plt.yticks(fontsize=22, color='black')\n",
    "plt.ylabel('Value', color='black',fontsize=22)\n",
    "plt.plot(values,y)\n",
    "# plt.savefig('../web/assets/portfolioStandings.png')\n",
    "plt.show()"
   ]
  },
  {
   "cell_type": "code",
   "execution_count": null,
   "metadata": {},
   "outputs": [],
   "source": []
  },
  {
   "cell_type": "code",
   "execution_count": null,
   "metadata": {},
   "outputs": [],
   "source": []
  },
  {
   "cell_type": "code",
   "execution_count": null,
   "metadata": {},
   "outputs": [],
   "source": []
  },
  {
   "cell_type": "code",
   "execution_count": null,
   "metadata": {},
   "outputs": [],
   "source": []
  }
 ],
 "metadata": {
  "kernelspec": {
   "display_name": "Python 3",
   "language": "python",
   "name": "python3"
  },
  "language_info": {
   "codemirror_mode": {
    "name": "ipython",
    "version": 3
   },
   "file_extension": ".py",
   "mimetype": "text/x-python",
   "name": "python",
   "nbconvert_exporter": "python",
   "pygments_lexer": "ipython3",
   "version": "3.8.5"
  }
 },
 "nbformat": 4,
 "nbformat_minor": 4
}
