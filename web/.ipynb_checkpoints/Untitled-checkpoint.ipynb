{
 "cells": [
  {
   "cell_type": "code",
   "execution_count": 1,
   "metadata": {},
   "outputs": [
    {
     "ename": "ModuleNotFoundError",
     "evalue": "No module named 'terminalLogic'",
     "output_type": "error",
     "traceback": [
      "\u001b[1;31m---------------------------------------------------------------------------\u001b[0m",
      "\u001b[1;31mModuleNotFoundError\u001b[0m                       Traceback (most recent call last)",
      "\u001b[1;32m<ipython-input-1-02f61efba942>\u001b[0m in \u001b[0;36m<module>\u001b[1;34m\u001b[0m\n\u001b[0;32m      3\u001b[0m \u001b[1;32mimport\u001b[0m \u001b[0mos\u001b[0m\u001b[1;33m\u001b[0m\u001b[1;33m\u001b[0m\u001b[0m\n\u001b[0;32m      4\u001b[0m \u001b[1;32mimport\u001b[0m \u001b[0murllib\u001b[0m\u001b[1;33m\u001b[0m\u001b[1;33m\u001b[0m\u001b[0m\n\u001b[1;32m----> 5\u001b[1;33m \u001b[1;32mimport\u001b[0m \u001b[0mterminalLogic\u001b[0m\u001b[1;33m\u001b[0m\u001b[1;33m\u001b[0m\u001b[0m\n\u001b[0m\u001b[0;32m      6\u001b[0m \u001b[1;32mfrom\u001b[0m \u001b[0mterminalLogic\u001b[0m \u001b[1;32mimport\u001b[0m \u001b[0mAlgo\u001b[0m\u001b[1;33m\u001b[0m\u001b[1;33m\u001b[0m\u001b[0m\n\u001b[0;32m      7\u001b[0m \u001b[1;32mimport\u001b[0m \u001b[0mclient\u001b[0m\u001b[1;33m\u001b[0m\u001b[1;33m\u001b[0m\u001b[0m\n",
      "\u001b[1;31mModuleNotFoundError\u001b[0m: No module named 'terminalLogic'"
     ]
    }
   ],
   "source": [
    "import base64\n",
    "import json\n",
    "import os\n",
    "import urllib\n",
    "import terminalLogic\n",
    "from terminalLogic import Algo\n",
    "import client\n",
    "import pandas as pd\n",
    "from matplotlib import pyplot as plt\n",
    "import mpld3\n",
    "\n",
    "\n",
    "def figure():\n",
    "    df = pd.read_csv('../data/btcperp1m.csv')\n",
    "    df.drop(df.columns[[0]], axis=1,inplace=True)\n",
    "    df1 = Algo.fullstate(df, df)\n",
    "    df1.dropna(inplace=True)\n",
    "    df2 = df1\n",
    "\n",
    "    fig, ax = plt.subplots()\n",
    "    plt.rcParams['figure.figsize'] = 20,8\n",
    "    plt.grid(True, alpha = .3)\n",
    "    plt.plot(df2.iloc[-500:]['close'], label = 'BTC')\n",
    "    plt.plot(df2.iloc[-500:]['9-min'], label = '9-min')\n",
    "    plt.plot(df2.iloc[-500:]['21-min'], label = '21-min')\n",
    "    plt.plot(df2[-500:].loc[df2.entry == 2].index, df2[-500:]['9-min'][df2.entry == 2], \"^\",\n",
    "            color = \"g\", markersize = 12, label= \"Long\")\n",
    "    plt.plot(df2[-500:].loc[df2.entry == -2].index, df2[-500:]['21-min'][df2.entry == -2], \"v\",\n",
    "            color = \"r\", markersize = 12, label=\"Short\")\n",
    "    plt.legend(loc=2);\n",
    "    html_fig = mpld3.fig_to_html(fig, template_type='general')\n",
    "a = figure()\n"
   ]
  },
  {
   "cell_type": "code",
   "execution_count": null,
   "metadata": {},
   "outputs": [],
   "source": []
  }
 ],
 "metadata": {
  "kernelspec": {
   "display_name": "Python 3",
   "language": "python",
   "name": "python3"
  },
  "language_info": {
   "codemirror_mode": {
    "name": "ipython",
    "version": 3
   },
   "file_extension": ".py",
   "mimetype": "text/x-python",
   "name": "python",
   "nbconvert_exporter": "python",
   "pygments_lexer": "ipython3",
   "version": "3.8.5"
  }
 },
 "nbformat": 4,
 "nbformat_minor": 4
}
