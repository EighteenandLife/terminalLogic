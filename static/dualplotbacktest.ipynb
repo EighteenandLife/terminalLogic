{
 "cells": [
  {
   "cell_type": "code",
   "execution_count": 1,
   "metadata": {},
   "outputs": [],
   "source": [
    "import pandas as pd\n",
    "import numpy as np\n",
    "import time\n",
    "import datetime\n",
    "import requests\n",
    "import matplotlib.pyplot as plt\n",
    "from client import engine\n",
    "from terminalLogic import Algo\n",
    "import schedule\n",
    "plt.rcParams['figure.figsize'] = [16.0, 6.0]\n",
    "%matplotlib inline\n"
   ]
  },
  {
   "cell_type": "code",
   "execution_count": null,
   "metadata": {},
   "outputs": [
    {
     "name": "stdout",
     "output_type": "stream",
     "text": [
      "===running all protocols===\n"
     ]
    },
    {
     "name": "stderr",
     "output_type": "stream",
     "text": [
      "C:\\Users\\tbrid\\Desktop\\terminalLogic\\web\\static\\terminalLogic.py:456: SettingWithCopyWarning: \n",
      "A value is trying to be set on a copy of a slice from a DataFrame.\n",
      "Try using .loc[row_indexer,col_indexer] = value instead\n",
      "\n",
      "See the caveats in the documentation: https://pandas.pydata.org/pandas-docs/stable/user_guide/indexing.html#returning-a-view-versus-a-copy\n",
      "  df['open']=df['open'].shift(1)\n",
      "C:\\Users\\tbrid\\Desktop\\terminalLogic\\web\\static\\terminalLogic.py:457: SettingWithCopyWarning: \n",
      "A value is trying to be set on a copy of a slice from a DataFrame.\n",
      "Try using .loc[row_indexer,col_indexer] = value instead\n",
      "\n",
      "See the caveats in the documentation: https://pandas.pydata.org/pandas-docs/stable/user_guide/indexing.html#returning-a-view-versus-a-copy\n",
      "  df['high']=df['high'].shift(1)\n",
      "C:\\Users\\tbrid\\Desktop\\terminalLogic\\web\\static\\terminalLogic.py:458: SettingWithCopyWarning: \n",
      "A value is trying to be set on a copy of a slice from a DataFrame.\n",
      "Try using .loc[row_indexer,col_indexer] = value instead\n",
      "\n",
      "See the caveats in the documentation: https://pandas.pydata.org/pandas-docs/stable/user_guide/indexing.html#returning-a-view-versus-a-copy\n",
      "  df['low']=df['low'].shift(1)\n",
      "C:\\Users\\tbrid\\Desktop\\terminalLogic\\web\\static\\terminalLogic.py:459: SettingWithCopyWarning: \n",
      "A value is trying to be set on a copy of a slice from a DataFrame.\n",
      "Try using .loc[row_indexer,col_indexer] = value instead\n",
      "\n",
      "See the caveats in the documentation: https://pandas.pydata.org/pandas-docs/stable/user_guide/indexing.html#returning-a-view-versus-a-copy\n",
      "  df['close']=df['close'].shift(1)\n"
     ]
    }
   ],
   "source": [
    "url = engine()\n",
    "data = url.getData()\n",
    "df = data\n",
    "df1 = Algo.fullstate(df, df)\n",
    "df1.dropna(inplace=True)\n",
    "df2 = df1\n",
    "df2.set_index(df2['time'], inplace=True)\n",
    "table = df2.tail(20)\n",
    "table.to_json('../templates/table.json', orient='records')\n",
    "df2"
   ]
  },
  {
   "cell_type": "code",
   "execution_count": null,
   "metadata": {},
   "outputs": [],
   "source": []
  }
 ],
 "metadata": {
  "celltoolbar": "Edit Metadata",
  "kernelspec": {
   "display_name": "Python 3",
   "language": "python",
   "name": "python3"
  },
  "language_info": {
   "codemirror_mode": {
    "name": "ipython",
    "version": 3
   },
   "file_extension": ".py",
   "mimetype": "text/x-python",
   "name": "python",
   "nbconvert_exporter": "python",
   "pygments_lexer": "ipython3",
   "version": "3.8.5"
  }
 },
 "nbformat": 4,
 "nbformat_minor": 4
}
