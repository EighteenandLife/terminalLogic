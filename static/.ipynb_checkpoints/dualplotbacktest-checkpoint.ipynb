{
 "cells": [
  {
   "cell_type": "code",
   "execution_count": 1,
   "metadata": {},
   "outputs": [
    {
     "ename": "ModuleNotFoundError",
     "evalue": "No module named 'greenLight'",
     "output_type": "error",
     "traceback": [
      "\u001b[1;31m---------------------------------------------------------------------------\u001b[0m",
      "\u001b[1;31mModuleNotFoundError\u001b[0m                       Traceback (most recent call last)",
      "\u001b[1;32m<ipython-input-1-c82a1b5ca4ca>\u001b[0m in \u001b[0;36m<module>\u001b[1;34m\u001b[0m\n\u001b[0;32m      6\u001b[0m \u001b[1;32mimport\u001b[0m \u001b[0mmatplotlib\u001b[0m\u001b[1;33m.\u001b[0m\u001b[0mpyplot\u001b[0m \u001b[1;32mas\u001b[0m \u001b[0mplt\u001b[0m\u001b[1;33m\u001b[0m\u001b[1;33m\u001b[0m\u001b[0m\n\u001b[0;32m      7\u001b[0m \u001b[1;32mfrom\u001b[0m \u001b[0mclient\u001b[0m \u001b[1;32mimport\u001b[0m \u001b[0mengine\u001b[0m\u001b[1;33m\u001b[0m\u001b[1;33m\u001b[0m\u001b[0m\n\u001b[1;32m----> 8\u001b[1;33m \u001b[1;32mfrom\u001b[0m \u001b[0mgreenLight\u001b[0m \u001b[1;32mimport\u001b[0m \u001b[0mgreenLight\u001b[0m\u001b[1;33m\u001b[0m\u001b[1;33m\u001b[0m\u001b[0m\n\u001b[0m\u001b[0;32m      9\u001b[0m \u001b[1;32mfrom\u001b[0m \u001b[0mterminalLogic\u001b[0m \u001b[1;32mimport\u001b[0m \u001b[0mAlgo\u001b[0m\u001b[1;33m\u001b[0m\u001b[1;33m\u001b[0m\u001b[0m\n\u001b[0;32m     10\u001b[0m \u001b[1;32mimport\u001b[0m \u001b[0mschedule\u001b[0m\u001b[1;33m\u001b[0m\u001b[1;33m\u001b[0m\u001b[0m\n",
      "\u001b[1;31mModuleNotFoundError\u001b[0m: No module named 'greenLight'"
     ]
    }
   ],
   "source": [
    "import pandas as pd\n",
    "import numpy as np\n",
    "import time\n",
    "import datetime\n",
    "import requests\n",
    "import matplotlib.pyplot as plt\n",
    "from client import engine\n",
    "from terminalLogic import Algo\n",
    "import schedule\n",
    "plt.rcParams['figure.figsize'] = [16.0, 6.0]\n",
    "%matplotlib inline\n"
   ]
  },
  {
   "cell_type": "code",
   "execution_count": null,
   "metadata": {},
   "outputs": [],
   "source": [
    "while True:\n",
    "    print('===running all protocols===')\n",
    "    data = engine.getData('BTCPERP')\n",
    "    df = Algo.fullstate(data, data)\n",
    "    df.dropna(inplace=True)\n",
    "    algo = df\n",
    "    algo['just_time'] = algo['time'].dt.date\n",
    "    table = algo.tail(20)\n",
    "    table.to_json('../web/templates/table.json', orient='records')\n",
    "    a = Algo.plot_R(algo)\n",
    "    b = Algo.plot_positionR(algo)\n",
    "    c = Algo.market_returnsR(algo)\n",
    "    d = Algo.nineM(algo)\n",
    "    e = Algo.plot_positionT(algo)\n",
    "    f = Algo.plot_gainzT(algo)\n",
    "    g = Algo.regime(algo)\n",
    "    h = Algo.folio(algo)\n",
    "    i = Algo.dualPlot(algo)\n",
    "    j = Algo.folioDB()\n",
    "    time.sleep(60)"
   ]
  },
  {
   "cell_type": "code",
   "execution_count": null,
   "metadata": {},
   "outputs": [],
   "source": [
    "data = engine.getData('BTCPERP')\n",
    "df = Algo.fullstate(data, data)\n",
    "df.dropna(inplace=True)\n",
    "df\n",
    "# algo = df\n",
    "# algo['just_time'] = algo['time'].dt.date\n",
    "# self = algo\n",
    "# self=self.dropna()\n",
    "# self['rangeSign'] = np.where(self['range_returns'] < 0, 'neg','pos')\n",
    "# self['trendSign'] = np.where(self['trend_returns'] < 0, 'neg','pos')\n",
    "\n",
    "# #consecutive groups\n",
    "# self['rangeSeries'] = self['rangeSign'].ne(self['rangeSign'].shift()).cumsum()\n",
    "# self['trendSeries'] = self['trendSign'].ne(self['trendSign'].shift()).cumsum()\n",
    "\n",
    "# #removed groups with length more like 2\n",
    "# df = self[self['rangeSeries'].map(self['rangeSeries'].value_counts()).gt(2)]\n",
    "# df = self[self['trendSeries'].map(self['trendSeries'].value_counts()).gt(2)]\n",
    "\n",
    "# #tested if order `pos-neg` of groups, if not removed groups\n",
    "# m1 = df['rangeSign'].eq('pos') & df['rangeSign'].shift(-1).eq('neg')\n",
    "# m2 = df['rangeSign'].eq('neg') & df['rangeSign'].shift().eq('pos')\n",
    "# m3 = df['trendSign'].eq('pos') & df['trendSign'].shift(-1).eq('neg')\n",
    "# m4 = df['trendSign'].eq('neg') & df['trendSign'].shift().eq('pos')\n",
    "# groupsR = df.loc[m1 | m2, 'rangeSeries']\n",
    "# df = df[df['rangeSeries'].isin(groupsR)].copy()\n",
    "# df['rangePairs'] = (df['rangeSign'].ne(df['rangeSign'].shift()) & df['rangeSign'].eq('pos')).cumsum()\n",
    "# groupsT = df.loc[m3 | m4, 'trendSeries']\n",
    "# df = df[df['trendSeries'].isin(groupsT)].copy()\n",
    "# df['trendPairs'] = (df['trendSign'].ne(df['trendSign'].shift()) & df['trendSign'].eq('pos')).cumsum()\n",
    "# rangeTradeCounts = df['rangeSeries'].nunique()\n",
    "# trendTradeCounts = df['trendSeries'].nunique()\n",
    "# totalTrades = rangeTradeCounts + trendTradeCounts\n",
    "# df['just_date'] = df['time'].dt.date\n",
    "# df['just_date']\n",
    "# # Set initial capital\n",
    "# initial_capital = float(22000.0)\n",
    "# # Create df positions\n",
    "# positions = pd.DataFrame(index=df.time.index).fillna(0.0)\n",
    "# # Buy 2 BTC\n",
    "# positions['BTCPERP'] = 1*df['signal']\n",
    "# # Initilize portfolio w value owned\n",
    "# portfolio = positions.multiply(df['close'], axis=0)\n",
    "# # Store diff in shares owned\n",
    "# pos_diff = positions.diff()\n",
    "# # Add 'holdings' to portfolio\n",
    "# portfolio['holdings'] = (positions.multiply(df['close'], axis=0)).sum(axis=1)\n",
    "# # Add 'cash' to portfolio\n",
    "# portfolio['cash'] = initial_capital - (pos_diff.multiply(df['close'], axis=0)).sum(axis=1).cumsum()\n",
    "# # Add 'total' to portfolio\n",
    "# portfolio['total'] = portfolio['cash'] + portfolio['holdings']\n",
    "# # Add 'returns' to portfolio\n",
    "# portfolio['returns'] = portfolio['total'].pct_change()\n",
    "# portfolio['time'] = df['time']\n",
    "# p = portfolio[-1:]\n",
    "# p.drop(columns=['time'], inplace=True)\n",
    "# p = p.reset_index(drop=True)\n",
    "# p.to_json('../web/templates/portfolio2.json', orient='records')\n",
    "# p"
   ]
  },
  {
   "cell_type": "code",
   "execution_count": null,
   "metadata": {},
   "outputs": [],
   "source": []
  }
 ],
 "metadata": {
  "celltoolbar": "Edit Metadata",
  "kernelspec": {
   "display_name": "Python 3",
   "language": "python",
   "name": "python3"
  }
 },
 "nbformat": 4,
 "nbformat_minor": 4
}
